{
 "cells": [
  {
   "cell_type": "markdown",
   "id": "16e87c87",
   "metadata": {
    "papermill": {
     "duration": 0.01157,
     "end_time": "2022-09-13T14:57:53.114019",
     "exception": false,
     "start_time": "2022-09-13T14:57:53.102449",
     "status": "completed"
    },
    "tags": []
   },
   "source": [
    "# Predicting Fire Alarms Using Multi-Sensor Data A Binary Classification"
   ]
  },
  {
   "cell_type": "markdown",
   "id": "99f621e5",
   "metadata": {
    "papermill": {
     "duration": 0.009889,
     "end_time": "2022-09-13T14:57:53.155570",
     "exception": false,
     "start_time": "2022-09-13T14:57:53.145681",
     "status": "completed"
    },
    "tags": []
   },
   "source": [
    "## Importing libraries"
   ]
  },
  {
   "cell_type": "code",
   "execution_count": 1,
   "id": "abc0510d",
   "metadata": {
    "papermill": {
     "duration": 1.597283,
     "end_time": "2022-09-13T14:57:54.764720",
     "exception": false,
     "start_time": "2022-09-13T14:57:53.167437",
     "status": "completed"
    },
    "tags": []
   },
   "outputs": [],
   "source": [
    "# Reading the data and dataset manipulation\n",
    "import pandas as pd\n",
    "import numpy as np\n",
    "import matplotlib.pyplot as plt\n",
    "import seaborn as sns\n",
    "%matplotlib inline\n",
    "from sklearn.preprocessing import StandardScaler, MinMaxScaler\n",
    "from sklearn.linear_model import LogisticRegression\n",
    "from sklearn.ensemble import RandomForestClassifier, AdaBoostClassifier\n",
    "from sklearn.pipeline import Pipeline\n",
    "from sklearn.model_selection import GridSearchCV, train_test_split\n",
    "from sklearn.metrics import accuracy_score, f1_score, recall_score, precision_score, auc\n",
    "import warnings\n",
    "warnings.filterwarnings('ignore')"
   ]
  },
  {
   "cell_type": "markdown",
   "id": "92125377",
   "metadata": {
    "papermill": {
     "duration": 0.009986,
     "end_time": "2022-09-13T14:57:54.835758",
     "exception": false,
     "start_time": "2022-09-13T14:57:54.825772",
     "status": "completed"
    },
    "tags": []
   },
   "source": [
    "## Reading the dataset"
   ]
  },
  {
   "cell_type": "code",
   "execution_count": 5,
   "id": "524bd319-59a7-4e5a-b04d-24f620399dd8",
   "metadata": {
    "tags": []
   },
   "outputs": [],
   "source": [
    "filename = 'smoke_detection_iot.csv'"
   ]
  },
  {
   "cell_type": "code",
   "execution_count": 6,
   "id": "ac2d37fd",
   "metadata": {
    "papermill": {
     "duration": 0.239814,
     "end_time": "2022-09-13T14:57:55.115687",
     "exception": false,
     "start_time": "2022-09-13T14:57:54.875873",
     "status": "completed"
    },
    "tags": []
   },
   "outputs": [
    {
     "ename": "FileNotFoundError",
     "evalue": "[Errno 2] File b'smoke_detection_iot.csv' does not exist: b'smoke_detection_iot.csv'",
     "output_type": "error",
     "traceback": [
      "\u001b[1;31m---------------------------------------------------------------------------\u001b[0m",
      "\u001b[1;31mFileNotFoundError\u001b[0m                         Traceback (most recent call last)",
      "\u001b[1;32m~\\AppData\\Local\\Temp\\ipykernel_18612\\2517081524.py\u001b[0m in \u001b[0;36m<module>\u001b[1;34m\u001b[0m\n\u001b[1;32m----> 1\u001b[1;33m \u001b[0mdata\u001b[0m \u001b[1;33m=\u001b[0m \u001b[0mpd\u001b[0m\u001b[1;33m.\u001b[0m\u001b[0mread_csv\u001b[0m\u001b[1;33m(\u001b[0m\u001b[0mfilename\u001b[0m\u001b[1;33m,\u001b[0m \u001b[0mindex_col\u001b[0m\u001b[1;33m=\u001b[0m\u001b[1;36m0\u001b[0m\u001b[1;33m)\u001b[0m\u001b[1;33m\u001b[0m\u001b[1;33m\u001b[0m\u001b[0m\n\u001b[0m\u001b[0;32m      2\u001b[0m \u001b[0mdata\u001b[0m\u001b[1;33m.\u001b[0m\u001b[0mhead\u001b[0m\u001b[1;33m(\u001b[0m\u001b[1;33m)\u001b[0m\u001b[1;33m\u001b[0m\u001b[1;33m\u001b[0m\u001b[0m\n",
      "\u001b[1;32m~\\anaconda3\\envs\\tensorflow\\lib\\site-packages\\pandas\\io\\parsers.py\u001b[0m in \u001b[0;36mparser_f\u001b[1;34m(filepath_or_buffer, sep, delimiter, header, names, index_col, usecols, squeeze, prefix, mangle_dupe_cols, dtype, engine, converters, true_values, false_values, skipinitialspace, skiprows, skipfooter, nrows, na_values, keep_default_na, na_filter, verbose, skip_blank_lines, parse_dates, infer_datetime_format, keep_date_col, date_parser, dayfirst, cache_dates, iterator, chunksize, compression, thousands, decimal, lineterminator, quotechar, quoting, doublequote, escapechar, comment, encoding, dialect, error_bad_lines, warn_bad_lines, delim_whitespace, low_memory, memory_map, float_precision)\u001b[0m\n\u001b[0;32m    683\u001b[0m         )\n\u001b[0;32m    684\u001b[0m \u001b[1;33m\u001b[0m\u001b[0m\n\u001b[1;32m--> 685\u001b[1;33m         \u001b[1;32mreturn\u001b[0m \u001b[0m_read\u001b[0m\u001b[1;33m(\u001b[0m\u001b[0mfilepath_or_buffer\u001b[0m\u001b[1;33m,\u001b[0m \u001b[0mkwds\u001b[0m\u001b[1;33m)\u001b[0m\u001b[1;33m\u001b[0m\u001b[1;33m\u001b[0m\u001b[0m\n\u001b[0m\u001b[0;32m    686\u001b[0m \u001b[1;33m\u001b[0m\u001b[0m\n\u001b[0;32m    687\u001b[0m     \u001b[0mparser_f\u001b[0m\u001b[1;33m.\u001b[0m\u001b[0m__name__\u001b[0m \u001b[1;33m=\u001b[0m \u001b[0mname\u001b[0m\u001b[1;33m\u001b[0m\u001b[1;33m\u001b[0m\u001b[0m\n",
      "\u001b[1;32m~\\anaconda3\\envs\\tensorflow\\lib\\site-packages\\pandas\\io\\parsers.py\u001b[0m in \u001b[0;36m_read\u001b[1;34m(filepath_or_buffer, kwds)\u001b[0m\n\u001b[0;32m    455\u001b[0m \u001b[1;33m\u001b[0m\u001b[0m\n\u001b[0;32m    456\u001b[0m     \u001b[1;31m# Create the parser.\u001b[0m\u001b[1;33m\u001b[0m\u001b[1;33m\u001b[0m\u001b[1;33m\u001b[0m\u001b[0m\n\u001b[1;32m--> 457\u001b[1;33m     \u001b[0mparser\u001b[0m \u001b[1;33m=\u001b[0m \u001b[0mTextFileReader\u001b[0m\u001b[1;33m(\u001b[0m\u001b[0mfp_or_buf\u001b[0m\u001b[1;33m,\u001b[0m \u001b[1;33m**\u001b[0m\u001b[0mkwds\u001b[0m\u001b[1;33m)\u001b[0m\u001b[1;33m\u001b[0m\u001b[1;33m\u001b[0m\u001b[0m\n\u001b[0m\u001b[0;32m    458\u001b[0m \u001b[1;33m\u001b[0m\u001b[0m\n\u001b[0;32m    459\u001b[0m     \u001b[1;32mif\u001b[0m \u001b[0mchunksize\u001b[0m \u001b[1;32mor\u001b[0m \u001b[0miterator\u001b[0m\u001b[1;33m:\u001b[0m\u001b[1;33m\u001b[0m\u001b[1;33m\u001b[0m\u001b[0m\n",
      "\u001b[1;32m~\\anaconda3\\envs\\tensorflow\\lib\\site-packages\\pandas\\io\\parsers.py\u001b[0m in \u001b[0;36m__init__\u001b[1;34m(self, f, engine, **kwds)\u001b[0m\n\u001b[0;32m    893\u001b[0m             \u001b[0mself\u001b[0m\u001b[1;33m.\u001b[0m\u001b[0moptions\u001b[0m\u001b[1;33m[\u001b[0m\u001b[1;34m\"has_index_names\"\u001b[0m\u001b[1;33m]\u001b[0m \u001b[1;33m=\u001b[0m \u001b[0mkwds\u001b[0m\u001b[1;33m[\u001b[0m\u001b[1;34m\"has_index_names\"\u001b[0m\u001b[1;33m]\u001b[0m\u001b[1;33m\u001b[0m\u001b[1;33m\u001b[0m\u001b[0m\n\u001b[0;32m    894\u001b[0m \u001b[1;33m\u001b[0m\u001b[0m\n\u001b[1;32m--> 895\u001b[1;33m         \u001b[0mself\u001b[0m\u001b[1;33m.\u001b[0m\u001b[0m_make_engine\u001b[0m\u001b[1;33m(\u001b[0m\u001b[0mself\u001b[0m\u001b[1;33m.\u001b[0m\u001b[0mengine\u001b[0m\u001b[1;33m)\u001b[0m\u001b[1;33m\u001b[0m\u001b[1;33m\u001b[0m\u001b[0m\n\u001b[0m\u001b[0;32m    896\u001b[0m \u001b[1;33m\u001b[0m\u001b[0m\n\u001b[0;32m    897\u001b[0m     \u001b[1;32mdef\u001b[0m \u001b[0mclose\u001b[0m\u001b[1;33m(\u001b[0m\u001b[0mself\u001b[0m\u001b[1;33m)\u001b[0m\u001b[1;33m:\u001b[0m\u001b[1;33m\u001b[0m\u001b[1;33m\u001b[0m\u001b[0m\n",
      "\u001b[1;32m~\\anaconda3\\envs\\tensorflow\\lib\\site-packages\\pandas\\io\\parsers.py\u001b[0m in \u001b[0;36m_make_engine\u001b[1;34m(self, engine)\u001b[0m\n\u001b[0;32m   1133\u001b[0m     \u001b[1;32mdef\u001b[0m \u001b[0m_make_engine\u001b[0m\u001b[1;33m(\u001b[0m\u001b[0mself\u001b[0m\u001b[1;33m,\u001b[0m \u001b[0mengine\u001b[0m\u001b[1;33m=\u001b[0m\u001b[1;34m\"c\"\u001b[0m\u001b[1;33m)\u001b[0m\u001b[1;33m:\u001b[0m\u001b[1;33m\u001b[0m\u001b[1;33m\u001b[0m\u001b[0m\n\u001b[0;32m   1134\u001b[0m         \u001b[1;32mif\u001b[0m \u001b[0mengine\u001b[0m \u001b[1;33m==\u001b[0m \u001b[1;34m\"c\"\u001b[0m\u001b[1;33m:\u001b[0m\u001b[1;33m\u001b[0m\u001b[1;33m\u001b[0m\u001b[0m\n\u001b[1;32m-> 1135\u001b[1;33m             \u001b[0mself\u001b[0m\u001b[1;33m.\u001b[0m\u001b[0m_engine\u001b[0m \u001b[1;33m=\u001b[0m \u001b[0mCParserWrapper\u001b[0m\u001b[1;33m(\u001b[0m\u001b[0mself\u001b[0m\u001b[1;33m.\u001b[0m\u001b[0mf\u001b[0m\u001b[1;33m,\u001b[0m \u001b[1;33m**\u001b[0m\u001b[0mself\u001b[0m\u001b[1;33m.\u001b[0m\u001b[0moptions\u001b[0m\u001b[1;33m)\u001b[0m\u001b[1;33m\u001b[0m\u001b[1;33m\u001b[0m\u001b[0m\n\u001b[0m\u001b[0;32m   1136\u001b[0m         \u001b[1;32melse\u001b[0m\u001b[1;33m:\u001b[0m\u001b[1;33m\u001b[0m\u001b[1;33m\u001b[0m\u001b[0m\n\u001b[0;32m   1137\u001b[0m             \u001b[1;32mif\u001b[0m \u001b[0mengine\u001b[0m \u001b[1;33m==\u001b[0m \u001b[1;34m\"python\"\u001b[0m\u001b[1;33m:\u001b[0m\u001b[1;33m\u001b[0m\u001b[1;33m\u001b[0m\u001b[0m\n",
      "\u001b[1;32m~\\anaconda3\\envs\\tensorflow\\lib\\site-packages\\pandas\\io\\parsers.py\u001b[0m in \u001b[0;36m__init__\u001b[1;34m(self, src, **kwds)\u001b[0m\n\u001b[0;32m   1915\u001b[0m         \u001b[0mkwds\u001b[0m\u001b[1;33m[\u001b[0m\u001b[1;34m\"usecols\"\u001b[0m\u001b[1;33m]\u001b[0m \u001b[1;33m=\u001b[0m \u001b[0mself\u001b[0m\u001b[1;33m.\u001b[0m\u001b[0musecols\u001b[0m\u001b[1;33m\u001b[0m\u001b[1;33m\u001b[0m\u001b[0m\n\u001b[0;32m   1916\u001b[0m \u001b[1;33m\u001b[0m\u001b[0m\n\u001b[1;32m-> 1917\u001b[1;33m         \u001b[0mself\u001b[0m\u001b[1;33m.\u001b[0m\u001b[0m_reader\u001b[0m \u001b[1;33m=\u001b[0m \u001b[0mparsers\u001b[0m\u001b[1;33m.\u001b[0m\u001b[0mTextReader\u001b[0m\u001b[1;33m(\u001b[0m\u001b[0msrc\u001b[0m\u001b[1;33m,\u001b[0m \u001b[1;33m**\u001b[0m\u001b[0mkwds\u001b[0m\u001b[1;33m)\u001b[0m\u001b[1;33m\u001b[0m\u001b[1;33m\u001b[0m\u001b[0m\n\u001b[0m\u001b[0;32m   1918\u001b[0m         \u001b[0mself\u001b[0m\u001b[1;33m.\u001b[0m\u001b[0munnamed_cols\u001b[0m \u001b[1;33m=\u001b[0m \u001b[0mself\u001b[0m\u001b[1;33m.\u001b[0m\u001b[0m_reader\u001b[0m\u001b[1;33m.\u001b[0m\u001b[0munnamed_cols\u001b[0m\u001b[1;33m\u001b[0m\u001b[1;33m\u001b[0m\u001b[0m\n\u001b[0;32m   1919\u001b[0m \u001b[1;33m\u001b[0m\u001b[0m\n",
      "\u001b[1;32mpandas/_libs/parsers.pyx\u001b[0m in \u001b[0;36mpandas._libs.parsers.TextReader.__cinit__\u001b[1;34m()\u001b[0m\n",
      "\u001b[1;32mpandas/_libs/parsers.pyx\u001b[0m in \u001b[0;36mpandas._libs.parsers.TextReader._setup_parser_source\u001b[1;34m()\u001b[0m\n",
      "\u001b[1;31mFileNotFoundError\u001b[0m: [Errno 2] File b'smoke_detection_iot.csv' does not exist: b'smoke_detection_iot.csv'"
     ]
    }
   ],
   "source": [
    "data = pd.read_csv(filename, index_col=0)\n",
    "data.head()"
   ]
  },
  {
   "cell_type": "markdown",
   "id": "3faa2ce8",
   "metadata": {
    "papermill": {
     "duration": 0.010181,
     "end_time": "2022-09-13T14:57:55.136593",
     "exception": false,
     "start_time": "2022-09-13T14:57:55.126412",
     "status": "completed"
    },
    "tags": []
   },
   "source": [
    "## Exploring the dataset"
   ]
  },
  {
   "cell_type": "code",
   "execution_count": null,
   "id": "74b51060",
   "metadata": {
    "papermill": {
     "duration": 0.021224,
     "end_time": "2022-09-13T14:57:55.168477",
     "exception": false,
     "start_time": "2022-09-13T14:57:55.147253",
     "status": "completed"
    },
    "tags": []
   },
   "outputs": [],
   "source": [
    "data.shape"
   ]
  },
  {
   "cell_type": "code",
   "execution_count": null,
   "id": "1acb2eab",
   "metadata": {
    "papermill": {
     "duration": 0.038072,
     "end_time": "2022-09-13T14:57:55.217746",
     "exception": false,
     "start_time": "2022-09-13T14:57:55.179674",
     "status": "completed"
    },
    "tags": []
   },
   "outputs": [],
   "source": [
    "data.info()"
   ]
  },
  {
   "cell_type": "code",
   "execution_count": null,
   "id": "0b16af2f",
   "metadata": {
    "papermill": {
     "duration": 0.10641,
     "end_time": "2022-09-13T14:57:55.357966",
     "exception": false,
     "start_time": "2022-09-13T14:57:55.251556",
     "status": "completed"
    },
    "tags": []
   },
   "outputs": [],
   "source": [
    "data.describe()"
   ]
  },
  {
   "cell_type": "code",
   "execution_count": null,
   "id": "e2651377",
   "metadata": {
    "tags": []
   },
   "outputs": [],
   "source": [
    "#checking null values"
   ]
  },
  {
   "cell_type": "code",
   "execution_count": null,
   "id": "5ae5298d",
   "metadata": {
    "tags": []
   },
   "outputs": [],
   "source": [
    "data.isnull().sum()"
   ]
  },
  {
   "cell_type": "code",
   "execution_count": null,
   "id": "63db8a3b",
   "metadata": {
    "papermill": {
     "duration": 0.065138,
     "end_time": "2022-09-13T14:57:55.435320",
     "exception": false,
     "start_time": "2022-09-13T14:57:55.370182",
     "status": "completed"
    },
    "tags": []
   },
   "outputs": [],
   "source": [
    "data[data.duplicated()].sum()"
   ]
  },
  {
   "cell_type": "markdown",
   "id": "22155bd4",
   "metadata": {
    "papermill": {
     "duration": 0.011168,
     "end_time": "2022-09-13T14:57:55.458674",
     "exception": false,
     "start_time": "2022-09-13T14:57:55.447506",
     "status": "completed"
    },
    "tags": []
   },
   "source": [
    "No duplicates are present in the dataset"
   ]
  },
  {
   "cell_type": "code",
   "execution_count": null,
   "id": "9017563d",
   "metadata": {
    "papermill": {
     "duration": 0.075042,
     "end_time": "2022-09-13T14:57:55.545402",
     "exception": false,
     "start_time": "2022-09-13T14:57:55.470360",
     "status": "completed"
    },
    "tags": []
   },
   "outputs": [],
   "source": [
    "data.corr()['Fire Alarm'][:-1].sort_values(ascending=False)"
   ]
  },
  {
   "cell_type": "code",
   "execution_count": null,
   "id": "f4d16509",
   "metadata": {
    "papermill": {
     "duration": 0.543954,
     "end_time": "2022-09-13T14:57:56.101131",
     "exception": false,
     "start_time": "2022-09-13T14:57:55.557177",
     "status": "completed"
    },
    "tags": []
   },
   "outputs": [],
   "source": [
    "ax = sns.heatmap(data.corr())"
   ]
  },
  {
   "cell_type": "code",
   "execution_count": null,
   "id": "aa3a4f4f",
   "metadata": {
    "papermill": {
     "duration": 0.025628,
     "end_time": "2022-09-13T14:57:56.139041",
     "exception": false,
     "start_time": "2022-09-13T14:57:56.113413",
     "status": "completed"
    },
    "tags": []
   },
   "outputs": [],
   "source": [
    "target_column = 'Fire Alarm'\n",
    "X = data.loc[:, data.columns != target_column]\n",
    "y = data[[target_column]]"
   ]
  },
  {
   "cell_type": "code",
   "execution_count": null,
   "id": "20c6a1b2",
   "metadata": {
    "tags": []
   },
   "outputs": [],
   "source": [
    "X"
   ]
  },
  {
   "cell_type": "code",
   "execution_count": null,
   "id": "537a33d4",
   "metadata": {
    "tags": []
   },
   "outputs": [],
   "source": [
    "y"
   ]
  },
  {
   "cell_type": "markdown",
   "id": "d74d4ffa",
   "metadata": {
    "papermill": {
     "duration": 0.011643,
     "end_time": "2022-09-13T14:57:56.162891",
     "exception": false,
     "start_time": "2022-09-13T14:57:56.151248",
     "status": "completed"
    },
    "tags": []
   },
   "source": [
    "## Scaling the feature columns"
   ]
  },
  {
   "cell_type": "code",
   "execution_count": null,
   "id": "49bd50ff",
   "metadata": {
    "papermill": {
     "duration": 0.061021,
     "end_time": "2022-09-13T14:57:56.235918",
     "exception": false,
     "start_time": "2022-09-13T14:57:56.174897",
     "status": "completed"
    },
    "tags": []
   },
   "outputs": [],
   "source": [
    "scaler = MinMaxScaler()\n",
    "columns = X.columns\n",
    "X = scaler.fit_transform(X)\n",
    "X = pd.DataFrame(X, columns=columns)\n",
    "X.head()"
   ]
  },
  {
   "cell_type": "markdown",
   "id": "b7f45262",
   "metadata": {
    "papermill": {
     "duration": 0.011851,
     "end_time": "2022-09-13T14:57:56.260187",
     "exception": false,
     "start_time": "2022-09-13T14:57:56.248336",
     "status": "completed"
    },
    "tags": []
   },
   "source": [
    "## Check for unbalanced classes"
   ]
  },
  {
   "cell_type": "code",
   "execution_count": null,
   "id": "22662f51",
   "metadata": {
    "papermill": {
     "duration": 0.026415,
     "end_time": "2022-09-13T14:57:56.298804",
     "exception": false,
     "start_time": "2022-09-13T14:57:56.272389",
     "status": "completed"
    },
    "tags": []
   },
   "outputs": [],
   "source": [
    "data['Fire Alarm'].value_counts(normalize=True)"
   ]
  },
  {
   "cell_type": "markdown",
   "id": "1c46f8fb",
   "metadata": {
    "papermill": {
     "duration": 0.012151,
     "end_time": "2022-09-13T14:57:56.323503",
     "exception": false,
     "start_time": "2022-09-13T14:57:56.311352",
     "status": "completed"
    },
    "tags": []
   },
   "source": [
    "Here we can see that there is an imbalance in the classes of our target label"
   ]
  },
  {
   "cell_type": "markdown",
   "id": "3997c6fc",
   "metadata": {
    "papermill": {
     "duration": 0.012356,
     "end_time": "2022-09-13T14:57:56.348219",
     "exception": false,
     "start_time": "2022-09-13T14:57:56.335863",
     "status": "completed"
    },
    "tags": []
   },
   "source": [
    "## Split data into train and test splits"
   ]
  },
  {
   "cell_type": "code",
   "execution_count": null,
   "id": "f8bb7b00",
   "metadata": {
    "papermill": {
     "duration": 0.298238,
     "end_time": "2022-09-13T14:57:56.683567",
     "exception": false,
     "start_time": "2022-09-13T14:57:56.385329",
     "status": "completed"
    },
    "tags": []
   },
   "outputs": [],
   "source": [
    "X_train, X_test, y_train, y_test = train_test_split(X, y, stratify=y, test_size=0.2, random_state=42)"
   ]
  },
  {
   "cell_type": "code",
   "execution_count": null,
   "id": "857768a4",
   "metadata": {
    "papermill": {
     "duration": 0.025011,
     "end_time": "2022-09-13T14:57:56.721168",
     "exception": false,
     "start_time": "2022-09-13T14:57:56.696157",
     "status": "completed"
    },
    "tags": []
   },
   "outputs": [],
   "source": [
    "X_train.shape"
   ]
  },
  {
   "cell_type": "code",
   "execution_count": null,
   "id": "5e9a8359",
   "metadata": {
    "papermill": {
     "duration": 0.028398,
     "end_time": "2022-09-13T14:57:56.762118",
     "exception": false,
     "start_time": "2022-09-13T14:57:56.733720",
     "status": "completed"
    },
    "tags": []
   },
   "outputs": [],
   "source": [
    "y_train.shape"
   ]
  },
  {
   "cell_type": "markdown",
   "id": "7000642e",
   "metadata": {},
   "source": [
    "# LogisticRegression"
   ]
  },
  {
   "cell_type": "code",
   "execution_count": null,
   "id": "47877593",
   "metadata": {
    "papermill": {
     "duration": 0.027666,
     "end_time": "2022-09-13T14:57:56.802361",
     "exception": false,
     "start_time": "2022-09-13T14:57:56.774695",
     "status": "completed"
    },
    "tags": []
   },
   "outputs": [],
   "source": [
    "lr=LogisticRegression()\n",
    "lr.fit(X_train,y_train)"
   ]
  },
  {
   "cell_type": "code",
   "execution_count": null,
   "id": "9f26a3ac",
   "metadata": {
    "tags": []
   },
   "outputs": [],
   "source": [
    "y_pred=lr.predict(X_test)\n",
    "from sklearn.metrics import accuracy_score,classification_report,confusion_matrix\n",
    "ac=accuracy_score(y_test,y_pred)*100\n",
    "print('Accuracy:',ac)"
   ]
  },
  {
   "cell_type": "code",
   "execution_count": null,
   "id": "96b75179",
   "metadata": {
    "tags": []
   },
   "outputs": [],
   "source": [
    "report=classification_report(y_test,y_pred)\n",
    "print(report)"
   ]
  },
  {
   "cell_type": "code",
   "execution_count": null,
   "id": "1379601f",
   "metadata": {
    "tags": []
   },
   "outputs": [],
   "source": [
    "cm=confusion_matrix(y_test,y_pred)\n",
    "# Visualize the confusion matrix as a heatmap\n",
    "plt.figure(figsize=(8, 6))\n",
    "sns.heatmap(cm, annot=True, fmt=\"d\", cmap=\"Blues\")\n",
    "plt.xlabel('Predicted')\n",
    "plt.ylabel('True')\n",
    "plt.title('LogisticRegression Confusion Matrix Heatmap')\n",
    "plt.show()"
   ]
  },
  {
   "cell_type": "code",
   "execution_count": null,
   "id": "c534e4fe",
   "metadata": {
    "scrolled": true,
    "tags": []
   },
   "outputs": [],
   "source": [
    "rf=RandomForestClassifier()\n",
    "rf.fit(X_train,y_train)"
   ]
  },
  {
   "cell_type": "code",
   "execution_count": null,
   "id": "22121f5f",
   "metadata": {
    "tags": []
   },
   "outputs": [],
   "source": [
    "y_pred1=rf.predict(X_test)\n",
    "from sklearn.metrics import accuracy_score\n",
    "acc1=accuracy_score(y_test,y_pred1)*100\n",
    "print('Accuracy:',acc1)"
   ]
  },
  {
   "cell_type": "code",
   "execution_count": null,
   "id": "bac4f931",
   "metadata": {
    "tags": []
   },
   "outputs": [],
   "source": [
    "report=classification_report(y_test,y_pred1)\n",
    "print(report)"
   ]
  },
  {
   "cell_type": "code",
   "execution_count": null,
   "id": "775f3e93",
   "metadata": {
    "tags": []
   },
   "outputs": [],
   "source": [
    "cm1=confusion_matrix(y_test,y_pred1)\n",
    "# Visualize the confusion matrix as a heatmap\n",
    "plt.figure(figsize=(8, 6))\n",
    "sns.heatmap(cm, annot=True, fmt=\"d\", cmap=\"Blues\")\n",
    "plt.xlabel('Predicted')\n",
    "plt.ylabel('True')\n",
    "plt.title('Random_forest Confusion Matrix Heatmap')\n",
    "plt.show()"
   ]
  },
  {
   "cell_type": "code",
   "execution_count": 7,
   "id": "4effaa01",
   "metadata": {
    "tags": []
   },
   "outputs": [
    {
     "ename": "NameError",
     "evalue": "name 'y_pred1' is not defined",
     "output_type": "error",
     "traceback": [
      "\u001b[1;31m---------------------------------------------------------------------------\u001b[0m",
      "\u001b[1;31mNameError\u001b[0m                                 Traceback (most recent call last)",
      "\u001b[1;32m~\\AppData\\Local\\Temp\\ipykernel_18612\\376404230.py\u001b[0m in \u001b[0;36m<module>\u001b[1;34m\u001b[0m\n\u001b[1;32m----> 1\u001b[1;33m \u001b[0my_pred1\u001b[0m\u001b[1;33m\u001b[0m\u001b[1;33m\u001b[0m\u001b[0m\n\u001b[0m",
      "\u001b[1;31mNameError\u001b[0m: name 'y_pred1' is not defined"
     ]
    }
   ],
   "source": [
    "y_pred1"
   ]
  },
  {
   "cell_type": "code",
   "execution_count": null,
   "id": "eabccf61",
   "metadata": {
    "tags": []
   },
   "outputs": [],
   "source": [
    "prediction_df=pd.DataFrame({'Predicted':y_pred1})"
   ]
  },
  {
   "cell_type": "code",
   "execution_count": null,
   "id": "38eed9ed",
   "metadata": {
    "tags": []
   },
   "outputs": [],
   "source": [
    "prediction_df"
   ]
  },
  {
   "cell_type": "code",
   "execution_count": null,
   "id": "ccaf01e6-b48b-4e57-845e-d8884a38976a",
   "metadata": {},
   "outputs": [],
   "source": []
  }
 ],
 "metadata": {
  "kernelspec": {
   "display_name": "Python 3 (ipykernel)",
   "language": "python",
   "name": "python3"
  },
  "language_info": {
   "codemirror_mode": {
    "name": "ipython",
    "version": 3
   },
   "file_extension": ".py",
   "mimetype": "text/x-python",
   "name": "python",
   "nbconvert_exporter": "python",
   "pygments_lexer": "ipython3",
   "version": "3.7.6"
  },
  "papermill": {
   "default_parameters": {},
   "duration": 1718.815626,
   "end_time": "2022-09-13T15:26:22.180859",
   "environment_variables": {},
   "exception": null,
   "input_path": "__notebook__.ipynb",
   "output_path": "__notebook__.ipynb",
   "parameters": {},
   "start_time": "2022-09-13T14:57:43.365233",
   "version": "2.3.4"
  }
 },
 "nbformat": 4,
 "nbformat_minor": 5
}
