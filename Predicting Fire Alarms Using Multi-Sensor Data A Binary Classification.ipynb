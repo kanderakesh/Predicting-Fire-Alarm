{
 "cells": [
  {
   "cell_type": "markdown",
   "id": "16e87c87",
   "metadata": {
    "papermill": {
     "duration": 0.01157,
     "end_time": "2022-09-13T14:57:53.114019",
     "exception": false,
     "start_time": "2022-09-13T14:57:53.102449",
     "status": "completed"
    },
    "tags": []
   },
   "source": [
    "# Predicting Fire Alarms Using Multi-Sensor Data A Binary Classification"
   ]
  },
  {
   "cell_type": "markdown",
   "id": "99f621e5",
   "metadata": {
    "papermill": {
     "duration": 0.009889,
     "end_time": "2022-09-13T14:57:53.155570",
     "exception": false,
     "start_time": "2022-09-13T14:57:53.145681",
     "status": "completed"
    },
    "tags": []
   },
   "source": [
    "## Importing libraries"
   ]
  },
  {
   "cell_type": "code",
   "execution_count": 2,
   "id": "abc0510d",
   "metadata": {
    "papermill": {
     "duration": 1.597283,
     "end_time": "2022-09-13T14:57:54.764720",
     "exception": false,
     "start_time": "2022-09-13T14:57:53.167437",
     "status": "completed"
    },
    "tags": []
   },
   "outputs": [],
   "source": [
    "# Reading the data and dataset manipulation\n",
    "import pandas as pd\n",
    "import numpy as np\n",
    "import matplotlib.pyplot as plt\n",
    "import seaborn as sns\n",
    "%matplotlib inline\n",
    "from sklearn.preprocessing import StandardScaler, MinMaxScaler\n",
    "from sklearn.linear_model import LogisticRegression\n",
    "from sklearn.ensemble import RandomForestClassifier, AdaBoostClassifier\n",
    "from sklearn.pipeline import Pipeline\n",
    "from sklearn.model_selection import GridSearchCV, train_test_split\n",
    "from sklearn.metrics import accuracy_score, f1_score, recall_score, precision_score, auc\n",
    "import warnings\n",
    "warnings.filterwarnings('ignore')"
   ]
  },
  {
   "cell_type": "markdown",
   "id": "92125377",
   "metadata": {
    "papermill": {
     "duration": 0.009986,
     "end_time": "2022-09-13T14:57:54.835758",
     "exception": false,
     "start_time": "2022-09-13T14:57:54.825772",
     "status": "completed"
    },
    "tags": []
   },
   "source": [
    "## Reading the dataset"
   ]
  },
  {
   "cell_type": "code",
   "execution_count": 3,
   "id": "ac2d37fd",
   "metadata": {
    "papermill": {
     "duration": 0.239814,
     "end_time": "2022-09-13T14:57:55.115687",
     "exception": false,
     "start_time": "2022-09-13T14:57:54.875873",
     "status": "completed"
    },
    "tags": []
   },
   "outputs": [
    {
     "data": {
      "text/html": [
       "<div>\n",
       "<style scoped>\n",
       "    .dataframe tbody tr th:only-of-type {\n",
       "        vertical-align: middle;\n",
       "    }\n",
       "\n",
       "    .dataframe tbody tr th {\n",
       "        vertical-align: top;\n",
       "    }\n",
       "\n",
       "    .dataframe thead th {\n",
       "        text-align: right;\n",
       "    }\n",
       "</style>\n",
       "<table border=\"1\" class=\"dataframe\">\n",
       "  <thead>\n",
       "    <tr style=\"text-align: right;\">\n",
       "      <th></th>\n",
       "      <th>UTC</th>\n",
       "      <th>Temperature[C]</th>\n",
       "      <th>Humidity[%]</th>\n",
       "      <th>TVOC[ppb]</th>\n",
       "      <th>eCO2[ppm]</th>\n",
       "      <th>Raw H2</th>\n",
       "      <th>Raw Ethanol</th>\n",
       "      <th>Pressure[hPa]</th>\n",
       "      <th>PM1.0</th>\n",
       "      <th>PM2.5</th>\n",
       "      <th>NC0.5</th>\n",
       "      <th>NC1.0</th>\n",
       "      <th>NC2.5</th>\n",
       "      <th>CNT</th>\n",
       "      <th>Fire Alarm</th>\n",
       "    </tr>\n",
       "  </thead>\n",
       "  <tbody>\n",
       "    <tr>\n",
       "      <th>0</th>\n",
       "      <td>1654733331</td>\n",
       "      <td>20.000</td>\n",
       "      <td>57.36</td>\n",
       "      <td>0</td>\n",
       "      <td>400</td>\n",
       "      <td>12306</td>\n",
       "      <td>18520</td>\n",
       "      <td>939.735</td>\n",
       "      <td>0.0</td>\n",
       "      <td>0.0</td>\n",
       "      <td>0.0</td>\n",
       "      <td>0.0</td>\n",
       "      <td>0.0</td>\n",
       "      <td>0</td>\n",
       "      <td>0</td>\n",
       "    </tr>\n",
       "    <tr>\n",
       "      <th>1</th>\n",
       "      <td>1654733332</td>\n",
       "      <td>20.015</td>\n",
       "      <td>56.67</td>\n",
       "      <td>0</td>\n",
       "      <td>400</td>\n",
       "      <td>12345</td>\n",
       "      <td>18651</td>\n",
       "      <td>939.744</td>\n",
       "      <td>0.0</td>\n",
       "      <td>0.0</td>\n",
       "      <td>0.0</td>\n",
       "      <td>0.0</td>\n",
       "      <td>0.0</td>\n",
       "      <td>1</td>\n",
       "      <td>0</td>\n",
       "    </tr>\n",
       "    <tr>\n",
       "      <th>2</th>\n",
       "      <td>1654733333</td>\n",
       "      <td>20.029</td>\n",
       "      <td>55.96</td>\n",
       "      <td>0</td>\n",
       "      <td>400</td>\n",
       "      <td>12374</td>\n",
       "      <td>18764</td>\n",
       "      <td>939.738</td>\n",
       "      <td>0.0</td>\n",
       "      <td>0.0</td>\n",
       "      <td>0.0</td>\n",
       "      <td>0.0</td>\n",
       "      <td>0.0</td>\n",
       "      <td>2</td>\n",
       "      <td>0</td>\n",
       "    </tr>\n",
       "    <tr>\n",
       "      <th>3</th>\n",
       "      <td>1654733334</td>\n",
       "      <td>20.044</td>\n",
       "      <td>55.28</td>\n",
       "      <td>0</td>\n",
       "      <td>400</td>\n",
       "      <td>12390</td>\n",
       "      <td>18849</td>\n",
       "      <td>939.736</td>\n",
       "      <td>0.0</td>\n",
       "      <td>0.0</td>\n",
       "      <td>0.0</td>\n",
       "      <td>0.0</td>\n",
       "      <td>0.0</td>\n",
       "      <td>3</td>\n",
       "      <td>0</td>\n",
       "    </tr>\n",
       "    <tr>\n",
       "      <th>4</th>\n",
       "      <td>1654733335</td>\n",
       "      <td>20.059</td>\n",
       "      <td>54.69</td>\n",
       "      <td>0</td>\n",
       "      <td>400</td>\n",
       "      <td>12403</td>\n",
       "      <td>18921</td>\n",
       "      <td>939.744</td>\n",
       "      <td>0.0</td>\n",
       "      <td>0.0</td>\n",
       "      <td>0.0</td>\n",
       "      <td>0.0</td>\n",
       "      <td>0.0</td>\n",
       "      <td>4</td>\n",
       "      <td>0</td>\n",
       "    </tr>\n",
       "  </tbody>\n",
       "</table>\n",
       "</div>"
      ],
      "text/plain": [
       "          UTC  Temperature[C]  Humidity[%]  TVOC[ppb]  eCO2[ppm]  Raw H2  \\\n",
       "0  1654733331          20.000        57.36          0        400   12306   \n",
       "1  1654733332          20.015        56.67          0        400   12345   \n",
       "2  1654733333          20.029        55.96          0        400   12374   \n",
       "3  1654733334          20.044        55.28          0        400   12390   \n",
       "4  1654733335          20.059        54.69          0        400   12403   \n",
       "\n",
       "   Raw Ethanol  Pressure[hPa]  PM1.0  PM2.5  NC0.5  NC1.0  NC2.5  CNT  \\\n",
       "0        18520        939.735    0.0    0.0    0.0    0.0    0.0    0   \n",
       "1        18651        939.744    0.0    0.0    0.0    0.0    0.0    1   \n",
       "2        18764        939.738    0.0    0.0    0.0    0.0    0.0    2   \n",
       "3        18849        939.736    0.0    0.0    0.0    0.0    0.0    3   \n",
       "4        18921        939.744    0.0    0.0    0.0    0.0    0.0    4   \n",
       "\n",
       "   Fire Alarm  \n",
       "0           0  \n",
       "1           0  \n",
       "2           0  \n",
       "3           0  \n",
       "4           0  "
      ]
     },
     "execution_count": 3,
     "metadata": {},
     "output_type": "execute_result"
    }
   ],
   "source": [
    "data = pd.read_csv('smoke_detection_iot.csv', index_col=0)\n",
    "data.head()"
   ]
  },
  {
   "cell_type": "markdown",
   "id": "3faa2ce8",
   "metadata": {
    "papermill": {
     "duration": 0.010181,
     "end_time": "2022-09-13T14:57:55.136593",
     "exception": false,
     "start_time": "2022-09-13T14:57:55.126412",
     "status": "completed"
    },
    "tags": []
   },
   "source": [
    "## Exploring the dataset"
   ]
  },
  {
   "cell_type": "code",
   "execution_count": 4,
   "id": "74b51060",
   "metadata": {
    "papermill": {
     "duration": 0.021224,
     "end_time": "2022-09-13T14:57:55.168477",
     "exception": false,
     "start_time": "2022-09-13T14:57:55.147253",
     "status": "completed"
    },
    "tags": []
   },
   "outputs": [
    {
     "data": {
      "text/plain": [
       "(62630, 15)"
      ]
     },
     "execution_count": 4,
     "metadata": {},
     "output_type": "execute_result"
    }
   ],
   "source": [
    "data.shape"
   ]
  },
  {
   "cell_type": "code",
   "execution_count": 5,
   "id": "1acb2eab",
   "metadata": {
    "papermill": {
     "duration": 0.038072,
     "end_time": "2022-09-13T14:57:55.217746",
     "exception": false,
     "start_time": "2022-09-13T14:57:55.179674",
     "status": "completed"
    },
    "tags": []
   },
   "outputs": [
    {
     "name": "stdout",
     "output_type": "stream",
     "text": [
      "<class 'pandas.core.frame.DataFrame'>\n",
      "Int64Index: 62630 entries, 0 to 62629\n",
      "Data columns (total 15 columns):\n",
      " #   Column          Non-Null Count  Dtype  \n",
      "---  ------          --------------  -----  \n",
      " 0   UTC             62630 non-null  int64  \n",
      " 1   Temperature[C]  62630 non-null  float64\n",
      " 2   Humidity[%]     62630 non-null  float64\n",
      " 3   TVOC[ppb]       62630 non-null  int64  \n",
      " 4   eCO2[ppm]       62630 non-null  int64  \n",
      " 5   Raw H2          62630 non-null  int64  \n",
      " 6   Raw Ethanol     62630 non-null  int64  \n",
      " 7   Pressure[hPa]   62630 non-null  float64\n",
      " 8   PM1.0           62630 non-null  float64\n",
      " 9   PM2.5           62630 non-null  float64\n",
      " 10  NC0.5           62630 non-null  float64\n",
      " 11  NC1.0           62630 non-null  float64\n",
      " 12  NC2.5           62630 non-null  float64\n",
      " 13  CNT             62630 non-null  int64  \n",
      " 14  Fire Alarm      62630 non-null  int64  \n",
      "dtypes: float64(8), int64(7)\n",
      "memory usage: 7.6 MB\n"
     ]
    }
   ],
   "source": [
    "data.info()"
   ]
  },
  {
   "cell_type": "code",
   "execution_count": 6,
   "id": "0b16af2f",
   "metadata": {
    "papermill": {
     "duration": 0.10641,
     "end_time": "2022-09-13T14:57:55.357966",
     "exception": false,
     "start_time": "2022-09-13T14:57:55.251556",
     "status": "completed"
    },
    "tags": []
   },
   "outputs": [
    {
     "data": {
      "text/html": [
       "<div>\n",
       "<style scoped>\n",
       "    .dataframe tbody tr th:only-of-type {\n",
       "        vertical-align: middle;\n",
       "    }\n",
       "\n",
       "    .dataframe tbody tr th {\n",
       "        vertical-align: top;\n",
       "    }\n",
       "\n",
       "    .dataframe thead th {\n",
       "        text-align: right;\n",
       "    }\n",
       "</style>\n",
       "<table border=\"1\" class=\"dataframe\">\n",
       "  <thead>\n",
       "    <tr style=\"text-align: right;\">\n",
       "      <th></th>\n",
       "      <th>UTC</th>\n",
       "      <th>Temperature[C]</th>\n",
       "      <th>Humidity[%]</th>\n",
       "      <th>TVOC[ppb]</th>\n",
       "      <th>eCO2[ppm]</th>\n",
       "      <th>Raw H2</th>\n",
       "      <th>Raw Ethanol</th>\n",
       "      <th>Pressure[hPa]</th>\n",
       "      <th>PM1.0</th>\n",
       "      <th>PM2.5</th>\n",
       "      <th>NC0.5</th>\n",
       "      <th>NC1.0</th>\n",
       "      <th>NC2.5</th>\n",
       "      <th>CNT</th>\n",
       "      <th>Fire Alarm</th>\n",
       "    </tr>\n",
       "  </thead>\n",
       "  <tbody>\n",
       "    <tr>\n",
       "      <th>count</th>\n",
       "      <td>6.263000e+04</td>\n",
       "      <td>62630.000000</td>\n",
       "      <td>62630.000000</td>\n",
       "      <td>62630.000000</td>\n",
       "      <td>62630.000000</td>\n",
       "      <td>62630.000000</td>\n",
       "      <td>62630.000000</td>\n",
       "      <td>62630.000000</td>\n",
       "      <td>62630.000000</td>\n",
       "      <td>62630.000000</td>\n",
       "      <td>62630.000000</td>\n",
       "      <td>62630.000000</td>\n",
       "      <td>62630.000000</td>\n",
       "      <td>62630.000000</td>\n",
       "      <td>62630.000000</td>\n",
       "    </tr>\n",
       "    <tr>\n",
       "      <th>mean</th>\n",
       "      <td>1.654792e+09</td>\n",
       "      <td>15.970424</td>\n",
       "      <td>48.539499</td>\n",
       "      <td>1942.057528</td>\n",
       "      <td>670.021044</td>\n",
       "      <td>12942.453936</td>\n",
       "      <td>19754.257912</td>\n",
       "      <td>938.627649</td>\n",
       "      <td>100.594309</td>\n",
       "      <td>184.467770</td>\n",
       "      <td>491.463608</td>\n",
       "      <td>203.586487</td>\n",
       "      <td>80.049042</td>\n",
       "      <td>10511.386157</td>\n",
       "      <td>0.714626</td>\n",
       "    </tr>\n",
       "    <tr>\n",
       "      <th>std</th>\n",
       "      <td>1.100025e+05</td>\n",
       "      <td>14.359576</td>\n",
       "      <td>8.865367</td>\n",
       "      <td>7811.589055</td>\n",
       "      <td>1905.885439</td>\n",
       "      <td>272.464305</td>\n",
       "      <td>609.513156</td>\n",
       "      <td>1.331344</td>\n",
       "      <td>922.524245</td>\n",
       "      <td>1976.305615</td>\n",
       "      <td>4265.661251</td>\n",
       "      <td>2214.738556</td>\n",
       "      <td>1083.383189</td>\n",
       "      <td>7597.870997</td>\n",
       "      <td>0.451596</td>\n",
       "    </tr>\n",
       "    <tr>\n",
       "      <th>min</th>\n",
       "      <td>1.654712e+09</td>\n",
       "      <td>-22.010000</td>\n",
       "      <td>10.740000</td>\n",
       "      <td>0.000000</td>\n",
       "      <td>400.000000</td>\n",
       "      <td>10668.000000</td>\n",
       "      <td>15317.000000</td>\n",
       "      <td>930.852000</td>\n",
       "      <td>0.000000</td>\n",
       "      <td>0.000000</td>\n",
       "      <td>0.000000</td>\n",
       "      <td>0.000000</td>\n",
       "      <td>0.000000</td>\n",
       "      <td>0.000000</td>\n",
       "      <td>0.000000</td>\n",
       "    </tr>\n",
       "    <tr>\n",
       "      <th>25%</th>\n",
       "      <td>1.654743e+09</td>\n",
       "      <td>10.994250</td>\n",
       "      <td>47.530000</td>\n",
       "      <td>130.000000</td>\n",
       "      <td>400.000000</td>\n",
       "      <td>12830.000000</td>\n",
       "      <td>19435.000000</td>\n",
       "      <td>938.700000</td>\n",
       "      <td>1.280000</td>\n",
       "      <td>1.340000</td>\n",
       "      <td>8.820000</td>\n",
       "      <td>1.384000</td>\n",
       "      <td>0.033000</td>\n",
       "      <td>3625.250000</td>\n",
       "      <td>0.000000</td>\n",
       "    </tr>\n",
       "    <tr>\n",
       "      <th>50%</th>\n",
       "      <td>1.654762e+09</td>\n",
       "      <td>20.130000</td>\n",
       "      <td>50.150000</td>\n",
       "      <td>981.000000</td>\n",
       "      <td>400.000000</td>\n",
       "      <td>12924.000000</td>\n",
       "      <td>19501.000000</td>\n",
       "      <td>938.816000</td>\n",
       "      <td>1.810000</td>\n",
       "      <td>1.880000</td>\n",
       "      <td>12.450000</td>\n",
       "      <td>1.943000</td>\n",
       "      <td>0.044000</td>\n",
       "      <td>9336.000000</td>\n",
       "      <td>1.000000</td>\n",
       "    </tr>\n",
       "    <tr>\n",
       "      <th>75%</th>\n",
       "      <td>1.654778e+09</td>\n",
       "      <td>25.409500</td>\n",
       "      <td>53.240000</td>\n",
       "      <td>1189.000000</td>\n",
       "      <td>438.000000</td>\n",
       "      <td>13109.000000</td>\n",
       "      <td>20078.000000</td>\n",
       "      <td>939.418000</td>\n",
       "      <td>2.090000</td>\n",
       "      <td>2.180000</td>\n",
       "      <td>14.420000</td>\n",
       "      <td>2.249000</td>\n",
       "      <td>0.051000</td>\n",
       "      <td>17164.750000</td>\n",
       "      <td>1.000000</td>\n",
       "    </tr>\n",
       "    <tr>\n",
       "      <th>max</th>\n",
       "      <td>1.655130e+09</td>\n",
       "      <td>59.930000</td>\n",
       "      <td>75.200000</td>\n",
       "      <td>60000.000000</td>\n",
       "      <td>60000.000000</td>\n",
       "      <td>13803.000000</td>\n",
       "      <td>21410.000000</td>\n",
       "      <td>939.861000</td>\n",
       "      <td>14333.690000</td>\n",
       "      <td>45432.260000</td>\n",
       "      <td>61482.030000</td>\n",
       "      <td>51914.680000</td>\n",
       "      <td>30026.438000</td>\n",
       "      <td>24993.000000</td>\n",
       "      <td>1.000000</td>\n",
       "    </tr>\n",
       "  </tbody>\n",
       "</table>\n",
       "</div>"
      ],
      "text/plain": [
       "                UTC  Temperature[C]   Humidity[%]     TVOC[ppb]     eCO2[ppm]  \\\n",
       "count  6.263000e+04    62630.000000  62630.000000  62630.000000  62630.000000   \n",
       "mean   1.654792e+09       15.970424     48.539499   1942.057528    670.021044   \n",
       "std    1.100025e+05       14.359576      8.865367   7811.589055   1905.885439   \n",
       "min    1.654712e+09      -22.010000     10.740000      0.000000    400.000000   \n",
       "25%    1.654743e+09       10.994250     47.530000    130.000000    400.000000   \n",
       "50%    1.654762e+09       20.130000     50.150000    981.000000    400.000000   \n",
       "75%    1.654778e+09       25.409500     53.240000   1189.000000    438.000000   \n",
       "max    1.655130e+09       59.930000     75.200000  60000.000000  60000.000000   \n",
       "\n",
       "             Raw H2   Raw Ethanol  Pressure[hPa]         PM1.0         PM2.5  \\\n",
       "count  62630.000000  62630.000000   62630.000000  62630.000000  62630.000000   \n",
       "mean   12942.453936  19754.257912     938.627649    100.594309    184.467770   \n",
       "std      272.464305    609.513156       1.331344    922.524245   1976.305615   \n",
       "min    10668.000000  15317.000000     930.852000      0.000000      0.000000   \n",
       "25%    12830.000000  19435.000000     938.700000      1.280000      1.340000   \n",
       "50%    12924.000000  19501.000000     938.816000      1.810000      1.880000   \n",
       "75%    13109.000000  20078.000000     939.418000      2.090000      2.180000   \n",
       "max    13803.000000  21410.000000     939.861000  14333.690000  45432.260000   \n",
       "\n",
       "              NC0.5         NC1.0         NC2.5           CNT    Fire Alarm  \n",
       "count  62630.000000  62630.000000  62630.000000  62630.000000  62630.000000  \n",
       "mean     491.463608    203.586487     80.049042  10511.386157      0.714626  \n",
       "std     4265.661251   2214.738556   1083.383189   7597.870997      0.451596  \n",
       "min        0.000000      0.000000      0.000000      0.000000      0.000000  \n",
       "25%        8.820000      1.384000      0.033000   3625.250000      0.000000  \n",
       "50%       12.450000      1.943000      0.044000   9336.000000      1.000000  \n",
       "75%       14.420000      2.249000      0.051000  17164.750000      1.000000  \n",
       "max    61482.030000  51914.680000  30026.438000  24993.000000      1.000000  "
      ]
     },
     "execution_count": 6,
     "metadata": {},
     "output_type": "execute_result"
    }
   ],
   "source": [
    "data.describe()"
   ]
  },
  {
   "cell_type": "code",
   "execution_count": 7,
   "id": "e2651377",
   "metadata": {
    "tags": []
   },
   "outputs": [],
   "source": [
    "#checking null values"
   ]
  },
  {
   "cell_type": "code",
   "execution_count": 8,
   "id": "5ae5298d",
   "metadata": {
    "tags": []
   },
   "outputs": [
    {
     "data": {
      "text/plain": [
       "UTC               0\n",
       "Temperature[C]    0\n",
       "Humidity[%]       0\n",
       "TVOC[ppb]         0\n",
       "eCO2[ppm]         0\n",
       "Raw H2            0\n",
       "Raw Ethanol       0\n",
       "Pressure[hPa]     0\n",
       "PM1.0             0\n",
       "PM2.5             0\n",
       "NC0.5             0\n",
       "NC1.0             0\n",
       "NC2.5             0\n",
       "CNT               0\n",
       "Fire Alarm        0\n",
       "dtype: int64"
      ]
     },
     "execution_count": 8,
     "metadata": {},
     "output_type": "execute_result"
    }
   ],
   "source": [
    "data.isnull().sum()"
   ]
  },
  {
   "cell_type": "code",
   "execution_count": 9,
   "id": "63db8a3b",
   "metadata": {
    "papermill": {
     "duration": 0.065138,
     "end_time": "2022-09-13T14:57:55.435320",
     "exception": false,
     "start_time": "2022-09-13T14:57:55.370182",
     "status": "completed"
    },
    "tags": []
   },
   "outputs": [
    {
     "data": {
      "text/plain": [
       "UTC               0.0\n",
       "Temperature[C]    0.0\n",
       "Humidity[%]       0.0\n",
       "TVOC[ppb]         0.0\n",
       "eCO2[ppm]         0.0\n",
       "Raw H2            0.0\n",
       "Raw Ethanol       0.0\n",
       "Pressure[hPa]     0.0\n",
       "PM1.0             0.0\n",
       "PM2.5             0.0\n",
       "NC0.5             0.0\n",
       "NC1.0             0.0\n",
       "NC2.5             0.0\n",
       "CNT               0.0\n",
       "Fire Alarm        0.0\n",
       "dtype: float64"
      ]
     },
     "execution_count": 9,
     "metadata": {},
     "output_type": "execute_result"
    }
   ],
   "source": [
    "data[data.duplicated()].sum()"
   ]
  },
  {
   "cell_type": "markdown",
   "id": "22155bd4",
   "metadata": {
    "papermill": {
     "duration": 0.011168,
     "end_time": "2022-09-13T14:57:55.458674",
     "exception": false,
     "start_time": "2022-09-13T14:57:55.447506",
     "status": "completed"
    },
    "tags": []
   },
   "source": [
    "No duplicates are present in the dataset"
   ]
  },
  {
   "cell_type": "code",
   "execution_count": 10,
   "id": "9017563d",
   "metadata": {
    "papermill": {
     "duration": 0.075042,
     "end_time": "2022-09-13T14:57:55.545402",
     "exception": false,
     "start_time": "2022-09-13T14:57:55.470360",
     "status": "completed"
    },
    "tags": []
   },
   "outputs": [
    {
     "data": {
      "text/plain": [
       "CNT               0.673762\n",
       "Humidity[%]       0.399846\n",
       "Pressure[hPa]     0.249797\n",
       "Raw H2            0.107007\n",
       "NC2.5            -0.057707\n",
       "NC1.0            -0.082828\n",
       "PM2.5            -0.084916\n",
       "eCO2[ppm]        -0.097006\n",
       "PM1.0            -0.110552\n",
       "NC0.5            -0.128118\n",
       "Temperature[C]   -0.163902\n",
       "TVOC[ppb]        -0.214743\n",
       "Raw Ethanol      -0.340652\n",
       "UTC              -0.389404\n",
       "Name: Fire Alarm, dtype: float64"
      ]
     },
     "execution_count": 10,
     "metadata": {},
     "output_type": "execute_result"
    }
   ],
   "source": [
    "data.corr()['Fire Alarm'][:-1].sort_values(ascending=False)"
   ]
  },
  {
   "cell_type": "code",
   "execution_count": 11,
   "id": "f4d16509",
   "metadata": {
    "papermill": {
     "duration": 0.543954,
     "end_time": "2022-09-13T14:57:56.101131",
     "exception": false,
     "start_time": "2022-09-13T14:57:55.557177",
     "status": "completed"
    },
    "tags": []
   },
   "outputs": [
    {
     "data": {
      "image/png": "[encoded data removed]",
      "text/plain": [
       "<Figure size 640x480 with 2 Axes>"
      ]
     },
     "metadata": {},
     "output_type": "display_data"
    }
   ],
   "source": [
    "ax = sns.heatmap(data.corr())"
   ]
  },
  {
   "cell_type": "code",
   "execution_count": 12,
   "id": "aa3a4f4f",
   "metadata": {
    "papermill": {
     "duration": 0.025628,
     "end_time": "2022-09-13T14:57:56.139041",
     "exception": false,
     "start_time": "2022-09-13T14:57:56.113413",
     "status": "completed"
    },
    "tags": []
   },
   "outputs": [],
   "source": [
    "target_column = 'Fire Alarm'\n",
    "X = data.loc[:, data.columns != target_column]\n",
    "y = data[[target_column]]"
   ]
  },
  {
   "cell_type": "code",
   "execution_count": 13,
   "id": "20c6a1b2",
   "metadata": {
    "tags": []
   },
   "outputs": [
    {
     "data": {
      "text/html": [
       "<div>\n",
       "<style scoped>\n",
       "    .dataframe tbody tr th:only-of-type {\n",
       "        vertical-align: middle;\n",
       "    }\n",
       "\n",
       "    .dataframe tbody tr th {\n",
       "        vertical-align: top;\n",
       "    }\n",
       "\n",
       "    .dataframe thead th {\n",
       "        text-align: right;\n",
       "    }\n",
       "</style>\n",
       "<table border=\"1\" class=\"dataframe\">\n",
       "  <thead>\n",
       "    <tr style=\"text-align: right;\">\n",
       "      <th></th>\n",
       "      <th>UTC</th>\n",
       "      <th>Temperature[C]</th>\n",
       "      <th>Humidity[%]</th>\n",
       "      <th>TVOC[ppb]</th>\n",
       "      <th>eCO2[ppm]</th>\n",
       "      <th>Raw H2</th>\n",
       "      <th>Raw Ethanol</th>\n",
       "      <th>Pressure[hPa]</th>\n",
       "      <th>PM1.0</th>\n",
       "      <th>PM2.5</th>\n",
       "      <th>NC0.5</th>\n",
       "      <th>NC1.0</th>\n",
       "      <th>NC2.5</th>\n",
       "      <th>CNT</th>\n",
       "    </tr>\n",
       "  </thead>\n",
       "  <tbody>\n",
       "    <tr>\n",
       "      <th>0</th>\n",
       "      <td>1654733331</td>\n",
       "      <td>20.000</td>\n",
       "      <td>57.36</td>\n",
       "      <td>0</td>\n",
       "      <td>400</td>\n",
       "      <td>12306</td>\n",
       "      <td>18520</td>\n",
       "      <td>939.735</td>\n",
       "      <td>0.00</td>\n",
       "      <td>0.00</td>\n",
       "      <td>0.00</td>\n",
       "      <td>0.000</td>\n",
       "      <td>0.000</td>\n",
       "      <td>0</td>\n",
       "    </tr>\n",
       "    <tr>\n",
       "      <th>1</th>\n",
       "      <td>1654733332</td>\n",
       "      <td>20.015</td>\n",
       "      <td>56.67</td>\n",
       "      <td>0</td>\n",
       "      <td>400</td>\n",
       "      <td>12345</td>\n",
       "      <td>18651</td>\n",
       "      <td>939.744</td>\n",
       "      <td>0.00</td>\n",
       "      <td>0.00</td>\n",
       "      <td>0.00</td>\n",
       "      <td>0.000</td>\n",
       "      <td>0.000</td>\n",
       "      <td>1</td>\n",
       "    </tr>\n",
       "    <tr>\n",
       "      <th>2</th>\n",
       "      <td>1654733333</td>\n",
       "      <td>20.029</td>\n",
       "      <td>55.96</td>\n",
       "      <td>0</td>\n",
       "      <td>400</td>\n",
       "      <td>12374</td>\n",
       "      <td>18764</td>\n",
       "      <td>939.738</td>\n",
       "      <td>0.00</td>\n",
       "      <td>0.00</td>\n",
       "      <td>0.00</td>\n",
       "      <td>0.000</td>\n",
       "      <td>0.000</td>\n",
       "      <td>2</td>\n",
       "    </tr>\n",
       "    <tr>\n",
       "      <th>3</th>\n",
       "      <td>1654733334</td>\n",
       "      <td>20.044</td>\n",
       "      <td>55.28</td>\n",
       "      <td>0</td>\n",
       "      <td>400</td>\n",
       "      <td>12390</td>\n",
       "      <td>18849</td>\n",
       "      <td>939.736</td>\n",
       "      <td>0.00</td>\n",
       "      <td>0.00</td>\n",
       "      <td>0.00</td>\n",
       "      <td>0.000</td>\n",
       "      <td>0.000</td>\n",
       "      <td>3</td>\n",
       "    </tr>\n",
       "    <tr>\n",
       "      <th>4</th>\n",
       "      <td>1654733335</td>\n",
       "      <td>20.059</td>\n",
       "      <td>54.69</td>\n",
       "      <td>0</td>\n",
       "      <td>400</td>\n",
       "      <td>12403</td>\n",
       "      <td>18921</td>\n",
       "      <td>939.744</td>\n",
       "      <td>0.00</td>\n",
       "      <td>0.00</td>\n",
       "      <td>0.00</td>\n",
       "      <td>0.000</td>\n",
       "      <td>0.000</td>\n",
       "      <td>4</td>\n",
       "    </tr>\n",
       "    <tr>\n",
       "      <th>...</th>\n",
       "      <td>...</td>\n",
       "      <td>...</td>\n",
       "      <td>...</td>\n",
       "      <td>...</td>\n",
       "      <td>...</td>\n",
       "      <td>...</td>\n",
       "      <td>...</td>\n",
       "      <td>...</td>\n",
       "      <td>...</td>\n",
       "      <td>...</td>\n",
       "      <td>...</td>\n",
       "      <td>...</td>\n",
       "      <td>...</td>\n",
       "      <td>...</td>\n",
       "    </tr>\n",
       "    <tr>\n",
       "      <th>62625</th>\n",
       "      <td>1655130047</td>\n",
       "      <td>18.438</td>\n",
       "      <td>15.79</td>\n",
       "      <td>625</td>\n",
       "      <td>400</td>\n",
       "      <td>13723</td>\n",
       "      <td>20569</td>\n",
       "      <td>936.670</td>\n",
       "      <td>0.63</td>\n",
       "      <td>0.65</td>\n",
       "      <td>4.32</td>\n",
       "      <td>0.673</td>\n",
       "      <td>0.015</td>\n",
       "      <td>5739</td>\n",
       "    </tr>\n",
       "    <tr>\n",
       "      <th>62626</th>\n",
       "      <td>1655130048</td>\n",
       "      <td>18.653</td>\n",
       "      <td>15.87</td>\n",
       "      <td>612</td>\n",
       "      <td>400</td>\n",
       "      <td>13731</td>\n",
       "      <td>20588</td>\n",
       "      <td>936.678</td>\n",
       "      <td>0.61</td>\n",
       "      <td>0.63</td>\n",
       "      <td>4.18</td>\n",
       "      <td>0.652</td>\n",
       "      <td>0.015</td>\n",
       "      <td>5740</td>\n",
       "    </tr>\n",
       "    <tr>\n",
       "      <th>62627</th>\n",
       "      <td>1655130049</td>\n",
       "      <td>18.867</td>\n",
       "      <td>15.84</td>\n",
       "      <td>627</td>\n",
       "      <td>400</td>\n",
       "      <td>13725</td>\n",
       "      <td>20582</td>\n",
       "      <td>936.687</td>\n",
       "      <td>0.57</td>\n",
       "      <td>0.60</td>\n",
       "      <td>3.95</td>\n",
       "      <td>0.617</td>\n",
       "      <td>0.014</td>\n",
       "      <td>5741</td>\n",
       "    </tr>\n",
       "    <tr>\n",
       "      <th>62628</th>\n",
       "      <td>1655130050</td>\n",
       "      <td>19.083</td>\n",
       "      <td>16.04</td>\n",
       "      <td>638</td>\n",
       "      <td>400</td>\n",
       "      <td>13712</td>\n",
       "      <td>20566</td>\n",
       "      <td>936.680</td>\n",
       "      <td>0.57</td>\n",
       "      <td>0.59</td>\n",
       "      <td>3.92</td>\n",
       "      <td>0.611</td>\n",
       "      <td>0.014</td>\n",
       "      <td>5742</td>\n",
       "    </tr>\n",
       "    <tr>\n",
       "      <th>62629</th>\n",
       "      <td>1655130051</td>\n",
       "      <td>19.299</td>\n",
       "      <td>16.52</td>\n",
       "      <td>643</td>\n",
       "      <td>400</td>\n",
       "      <td>13696</td>\n",
       "      <td>20543</td>\n",
       "      <td>936.676</td>\n",
       "      <td>0.57</td>\n",
       "      <td>0.59</td>\n",
       "      <td>3.90</td>\n",
       "      <td>0.607</td>\n",
       "      <td>0.014</td>\n",
       "      <td>5743</td>\n",
       "    </tr>\n",
       "  </tbody>\n",
       "</table>\n",
       "<p>62630 rows × 14 columns</p>\n",
       "</div>"
      ],
      "text/plain": [
       "              UTC  Temperature[C]  Humidity[%]  TVOC[ppb]  eCO2[ppm]  Raw H2  \\\n",
       "0      1654733331          20.000        57.36          0        400   12306   \n",
       "1      1654733332          20.015        56.67          0        400   12345   \n",
       "2      1654733333          20.029        55.96          0        400   12374   \n",
       "3      1654733334          20.044        55.28          0        400   12390   \n",
       "4      1654733335          20.059        54.69          0        400   12403   \n",
       "...           ...             ...          ...        ...        ...     ...   \n",
       "62625  1655130047          18.438        15.79        625        400   13723   \n",
       "62626  1655130048          18.653        15.87        612        400   13731   \n",
       "62627  1655130049          18.867        15.84        627        400   13725   \n",
       "62628  1655130050          19.083        16.04        638        400   13712   \n",
       "62629  1655130051          19.299        16.52        643        400   13696   \n",
       "\n",
       "       Raw Ethanol  Pressure[hPa]  PM1.0  PM2.5  NC0.5  NC1.0  NC2.5   CNT  \n",
       "0            18520        939.735   0.00   0.00   0.00  0.000  0.000     0  \n",
       "1            18651        939.744   0.00   0.00   0.00  0.000  0.000     1  \n",
       "2            18764        939.738   0.00   0.00   0.00  0.000  0.000     2  \n",
       "3            18849        939.736   0.00   0.00   0.00  0.000  0.000     3  \n",
       "4            18921        939.744   0.00   0.00   0.00  0.000  0.000     4  \n",
       "...            ...            ...    ...    ...    ...    ...    ...   ...  \n",
       "62625        20569        936.670   0.63   0.65   4.32  0.673  0.015  5739  \n",
       "62626        20588        936.678   0.61   0.63   4.18  0.652  0.015  5740  \n",
       "62627        20582        936.687   0.57   0.60   3.95  0.617  0.014  5741  \n",
       "62628        20566        936.680   0.57   0.59   3.92  0.611  0.014  5742  \n",
       "62629        20543        936.676   0.57   0.59   3.90  0.607  0.014  5743  \n",
       "\n",
       "[62630 rows x 14 columns]"
      ]
     },
     "execution_count": 13,
     "metadata": {},
     "output_type": "execute_result"
    }
   ],
   "source": [
    "X"
   ]
  },
  {
   "cell_type": "code",
   "execution_count": 14,
   "id": "537a33d4",
   "metadata": {
    "tags": []
   },
   "outputs": [
    {
     "data": {
      "text/html": [
       "<div>\n",
       "<style scoped>\n",
       "    .dataframe tbody tr th:only-of-type {\n",
       "        vertical-align: middle;\n",
       "    }\n",
       "\n",
       "    .dataframe tbody tr th {\n",
       "        vertical-align: top;\n",
       "    }\n",
       "\n",
       "    .dataframe thead th {\n",
       "        text-align: right;\n",
       "    }\n",
       "</style>\n",
       "<table border=\"1\" class=\"dataframe\">\n",
       "  <thead>\n",
       "    <tr style=\"text-align: right;\">\n",
       "      <th></th>\n",
       "      <th>Fire Alarm</th>\n",
       "    </tr>\n",
       "  </thead>\n",
       "  <tbody>\n",
       "    <tr>\n",
       "      <th>0</th>\n",
       "      <td>0</td>\n",
       "    </tr>\n",
       "    <tr>\n",
       "      <th>1</th>\n",
       "      <td>0</td>\n",
       "    </tr>\n",
       "    <tr>\n",
       "      <th>2</th>\n",
       "      <td>0</td>\n",
       "    </tr>\n",
       "    <tr>\n",
       "      <th>3</th>\n",
       "      <td>0</td>\n",
       "    </tr>\n",
       "    <tr>\n",
       "      <th>4</th>\n",
       "      <td>0</td>\n",
       "    </tr>\n",
       "    <tr>\n",
       "      <th>...</th>\n",
       "      <td>...</td>\n",
       "    </tr>\n",
       "    <tr>\n",
       "      <th>62625</th>\n",
       "      <td>0</td>\n",
       "    </tr>\n",
       "    <tr>\n",
       "      <th>62626</th>\n",
       "      <td>0</td>\n",
       "    </tr>\n",
       "    <tr>\n",
       "      <th>62627</th>\n",
       "      <td>0</td>\n",
       "    </tr>\n",
       "    <tr>\n",
       "      <th>62628</th>\n",
       "      <td>0</td>\n",
       "    </tr>\n",
       "    <tr>\n",
       "      <th>62629</th>\n",
       "      <td>0</td>\n",
       "    </tr>\n",
       "  </tbody>\n",
       "</table>\n",
       "<p>62630 rows × 1 columns</p>\n",
       "</div>"
      ],
      "text/plain": [
       "       Fire Alarm\n",
       "0               0\n",
       "1               0\n",
       "2               0\n",
       "3               0\n",
       "4               0\n",
       "...           ...\n",
       "62625           0\n",
       "62626           0\n",
       "62627           0\n",
       "62628           0\n",
       "62629           0\n",
       "\n",
       "[62630 rows x 1 columns]"
      ]
     },
     "execution_count": 14,
     "metadata": {},
     "output_type": "execute_result"
    }
   ],
   "source": [
    "y"
   ]
  },
  {
   "cell_type": "markdown",
   "id": "d74d4ffa",
   "metadata": {
    "papermill": {
     "duration": 0.011643,
     "end_time": "2022-09-13T14:57:56.162891",
     "exception": false,
     "start_time": "2022-09-13T14:57:56.151248",
     "status": "completed"
    },
    "tags": []
   },
   "source": [
    "## Scaling the feature columns"
   ]
  },
  {
   "cell_type": "code",
   "execution_count": 15,
   "id": "49bd50ff",
   "metadata": {
    "papermill": {
     "duration": 0.061021,
     "end_time": "2022-09-13T14:57:56.235918",
     "exception": false,
     "start_time": "2022-09-13T14:57:56.174897",
     "status": "completed"
    },
    "tags": []
   },
   "outputs": [
    {
     "data": {
      "text/html": [
       "<div>\n",
       "<style scoped>\n",
       "    .dataframe tbody tr th:only-of-type {\n",
       "        vertical-align: middle;\n",
       "    }\n",
       "\n",
       "    .dataframe tbody tr th {\n",
       "        vertical-align: top;\n",
       "    }\n",
       "\n",
       "    .dataframe thead th {\n",
       "        text-align: right;\n",
       "    }\n",
       "</style>\n",
       "<table border=\"1\" class=\"dataframe\">\n",
       "  <thead>\n",
       "    <tr style=\"text-align: right;\">\n",
       "      <th></th>\n",
       "      <th>UTC</th>\n",
       "      <th>Temperature[C]</th>\n",
       "      <th>Humidity[%]</th>\n",
       "      <th>TVOC[ppb]</th>\n",
       "      <th>eCO2[ppm]</th>\n",
       "      <th>Raw H2</th>\n",
       "      <th>Raw Ethanol</th>\n",
       "      <th>Pressure[hPa]</th>\n",
       "      <th>PM1.0</th>\n",
       "      <th>PM2.5</th>\n",
       "      <th>NC0.5</th>\n",
       "      <th>NC1.0</th>\n",
       "      <th>NC2.5</th>\n",
       "      <th>CNT</th>\n",
       "    </tr>\n",
       "  </thead>\n",
       "  <tbody>\n",
       "    <tr>\n",
       "      <th>0</th>\n",
       "      <td>0.050600</td>\n",
       "      <td>0.512692</td>\n",
       "      <td>0.723239</td>\n",
       "      <td>0.0</td>\n",
       "      <td>0.0</td>\n",
       "      <td>0.522488</td>\n",
       "      <td>0.525685</td>\n",
       "      <td>0.986014</td>\n",
       "      <td>0.0</td>\n",
       "      <td>0.0</td>\n",
       "      <td>0.0</td>\n",
       "      <td>0.0</td>\n",
       "      <td>0.0</td>\n",
       "      <td>0.00000</td>\n",
       "    </tr>\n",
       "    <tr>\n",
       "      <th>1</th>\n",
       "      <td>0.050603</td>\n",
       "      <td>0.512875</td>\n",
       "      <td>0.712535</td>\n",
       "      <td>0.0</td>\n",
       "      <td>0.0</td>\n",
       "      <td>0.534928</td>\n",
       "      <td>0.547185</td>\n",
       "      <td>0.987013</td>\n",
       "      <td>0.0</td>\n",
       "      <td>0.0</td>\n",
       "      <td>0.0</td>\n",
       "      <td>0.0</td>\n",
       "      <td>0.0</td>\n",
       "      <td>0.00004</td>\n",
       "    </tr>\n",
       "    <tr>\n",
       "      <th>2</th>\n",
       "      <td>0.050605</td>\n",
       "      <td>0.513046</td>\n",
       "      <td>0.701520</td>\n",
       "      <td>0.0</td>\n",
       "      <td>0.0</td>\n",
       "      <td>0.544179</td>\n",
       "      <td>0.565731</td>\n",
       "      <td>0.986347</td>\n",
       "      <td>0.0</td>\n",
       "      <td>0.0</td>\n",
       "      <td>0.0</td>\n",
       "      <td>0.0</td>\n",
       "      <td>0.0</td>\n",
       "      <td>0.00008</td>\n",
       "    </tr>\n",
       "    <tr>\n",
       "      <th>3</th>\n",
       "      <td>0.050607</td>\n",
       "      <td>0.513229</td>\n",
       "      <td>0.690971</td>\n",
       "      <td>0.0</td>\n",
       "      <td>0.0</td>\n",
       "      <td>0.549282</td>\n",
       "      <td>0.579682</td>\n",
       "      <td>0.986125</td>\n",
       "      <td>0.0</td>\n",
       "      <td>0.0</td>\n",
       "      <td>0.0</td>\n",
       "      <td>0.0</td>\n",
       "      <td>0.0</td>\n",
       "      <td>0.00012</td>\n",
       "    </tr>\n",
       "    <tr>\n",
       "      <th>4</th>\n",
       "      <td>0.050610</td>\n",
       "      <td>0.513412</td>\n",
       "      <td>0.681818</td>\n",
       "      <td>0.0</td>\n",
       "      <td>0.0</td>\n",
       "      <td>0.553429</td>\n",
       "      <td>0.591498</td>\n",
       "      <td>0.987013</td>\n",
       "      <td>0.0</td>\n",
       "      <td>0.0</td>\n",
       "      <td>0.0</td>\n",
       "      <td>0.0</td>\n",
       "      <td>0.0</td>\n",
       "      <td>0.00016</td>\n",
       "    </tr>\n",
       "  </tbody>\n",
       "</table>\n",
       "</div>"
      ],
      "text/plain": [
       "        UTC  Temperature[C]  Humidity[%]  TVOC[ppb]  eCO2[ppm]    Raw H2  \\\n",
       "0  0.050600        0.512692     0.723239        0.0        0.0  0.522488   \n",
       "1  0.050603        0.512875     0.712535        0.0        0.0  0.534928   \n",
       "2  0.050605        0.513046     0.701520        0.0        0.0  0.544179   \n",
       "3  0.050607        0.513229     0.690971        0.0        0.0  0.549282   \n",
       "4  0.050610        0.513412     0.681818        0.0        0.0  0.553429   \n",
       "\n",
       "   Raw Ethanol  Pressure[hPa]  PM1.0  PM2.5  NC0.5  NC1.0  NC2.5      CNT  \n",
       "0     0.525685       0.986014    0.0    0.0    0.0    0.0    0.0  0.00000  \n",
       "1     0.547185       0.987013    0.0    0.0    0.0    0.0    0.0  0.00004  \n",
       "2     0.565731       0.986347    0.0    0.0    0.0    0.0    0.0  0.00008  \n",
       "3     0.579682       0.986125    0.0    0.0    0.0    0.0    0.0  0.00012  \n",
       "4     0.591498       0.987013    0.0    0.0    0.0    0.0    0.0  0.00016  "
      ]
     },
     "execution_count": 15,
     "metadata": {},
     "output_type": "execute_result"
    }
   ],
   "source": [
    "scaler = MinMaxScaler()\n",
    "columns = X.columns\n",
    "X = scaler.fit_transform(X)\n",
    "X = pd.DataFrame(X, columns=columns)\n",
    "X.head()"
   ]
  },
  {
   "cell_type": "markdown",
   "id": "b7f45262",
   "metadata": {
    "papermill": {
     "duration": 0.011851,
     "end_time": "2022-09-13T14:57:56.260187",
     "exception": false,
     "start_time": "2022-09-13T14:57:56.248336",
     "status": "completed"
    },
    "tags": []
   },
   "source": [
    "## Check for unbalanced classes"
   ]
  },
  {
   "cell_type": "code",
   "execution_count": 16,
   "id": "22662f51",
   "metadata": {
    "papermill": {
     "duration": 0.026415,
     "end_time": "2022-09-13T14:57:56.298804",
     "exception": false,
     "start_time": "2022-09-13T14:57:56.272389",
     "status": "completed"
    },
    "tags": []
   },
   "outputs": [
    {
     "data": {
      "text/plain": [
       "1    0.714626\n",
       "0    0.285374\n",
       "Name: Fire Alarm, dtype: float64"
      ]
     },
     "execution_count": 16,
     "metadata": {},
     "output_type": "execute_result"
    }
   ],
   "source": [
    "data['Fire Alarm'].value_counts(normalize=True)"
   ]
  },
  {
   "cell_type": "markdown",
   "id": "1c46f8fb",
   "metadata": {
    "papermill": {
     "duration": 0.012151,
     "end_time": "2022-09-13T14:57:56.323503",
     "exception": false,
     "start_time": "2022-09-13T14:57:56.311352",
     "status": "completed"
    },
    "tags": []
   },
   "source": [
    "Here we can see that there is an imbalance in the classes of our target label"
   ]
  },
  {
   "cell_type": "markdown",
   "id": "3997c6fc",
   "metadata": {
    "papermill": {
     "duration": 0.012356,
     "end_time": "2022-09-13T14:57:56.348219",
     "exception": false,
     "start_time": "2022-09-13T14:57:56.335863",
     "status": "completed"
    },
    "tags": []
   },
   "source": [
    "## Split data into train and test splits"
   ]
  },
  {
   "cell_type": "code",
   "execution_count": 17,
   "id": "f8bb7b00",
   "metadata": {
    "papermill": {
     "duration": 0.298238,
     "end_time": "2022-09-13T14:57:56.683567",
     "exception": false,
     "start_time": "2022-09-13T14:57:56.385329",
     "status": "completed"
    },
    "tags": []
   },
   "outputs": [],
   "source": [
    "X_train, X_test, y_train, y_test = train_test_split(X, y, stratify=y, test_size=0.2, random_state=42)"
   ]
  },
  {
   "cell_type": "code",
   "execution_count": 18,
   "id": "857768a4",
   "metadata": {
    "papermill": {
     "duration": 0.025011,
     "end_time": "2022-09-13T14:57:56.721168",
     "exception": false,
     "start_time": "2022-09-13T14:57:56.696157",
     "status": "completed"
    },
    "tags": []
   },
   "outputs": [
    {
     "data": {
      "text/plain": [
       "(50104, 14)"
      ]
     },
     "execution_count": 18,
     "metadata": {},
     "output_type": "execute_result"
    }
   ],
   "source": [
    "X_train.shape"
   ]
  },
  {
   "cell_type": "code",
   "execution_count": 19,
   "id": "5e9a8359",
   "metadata": {
    "papermill": {
     "duration": 0.028398,
     "end_time": "2022-09-13T14:57:56.762118",
     "exception": false,
     "start_time": "2022-09-13T14:57:56.733720",
     "status": "completed"
    },
    "tags": []
   },
   "outputs": [
    {
     "data": {
      "text/plain": [
       "(50104, 1)"
      ]
     },
     "execution_count": 19,
     "metadata": {},
     "output_type": "execute_result"
    }
   ],
   "source": [
    "y_train.shape"
   ]
  },
  {
   "cell_type": "markdown",
   "id": "7000642e",
   "metadata": {},
   "source": [
    "# LogisticRegression"
   ]
  },
  {
   "cell_type": "code",
   "execution_count": 20,
   "id": "47877593",
   "metadata": {
    "papermill": {
     "duration": 0.027666,
     "end_time": "2022-09-13T14:57:56.802361",
     "exception": false,
     "start_time": "2022-09-13T14:57:56.774695",
     "status": "completed"
    },
    "tags": []
   },
   "outputs": [
    {
     "data": {
      "text/html": [
       "<style>#sk-container-id-1 {color: black;}#sk-container-id-1 pre{padding: 0;}#sk-container-id-1 div.sk-toggleable {background-color: white;}#sk-container-id-1 label.sk-toggleable__label {cursor: pointer;display: block;width: 100%;margin-bottom: 0;padding: 0.3em;box-sizing: border-box;text-align: center;}#sk-container-id-1 label.sk-toggleable__label-arrow:before {content: \"▸\";float: left;margin-right: 0.25em;color: #696969;}#sk-container-id-1 label.sk-toggleable__label-arrow:hover:before {color: black;}#sk-container-id-1 div.sk-estimator:hover label.sk-toggleable__label-arrow:before {color: black;}#sk-container-id-1 div.sk-toggleable__content {max-height: 0;max-width: 0;overflow: hidden;text-align: left;background-color: #f0f8ff;}#sk-container-id-1 div.sk-toggleable__content pre {margin: 0.2em;color: black;border-radius: 0.25em;background-color: #f0f8ff;}#sk-container-id-1 input.sk-toggleable__control:checked~div.sk-toggleable__content {max-height: 200px;max-width: 100%;overflow: auto;}#sk-container-id-1 input.sk-toggleable__control:checked~label.sk-toggleable__label-arrow:before {content: \"▾\";}#sk-container-id-1 div.sk-estimator input.sk-toggleable__control:checked~label.sk-toggleable__label {background-color: #d4ebff;}#sk-container-id-1 div.sk-label input.sk-toggleable__control:checked~label.sk-toggleable__label {background-color: #d4ebff;}#sk-container-id-1 input.sk-hidden--visually {border: 0;clip: rect(1px 1px 1px 1px);clip: rect(1px, 1px, 1px, 1px);height: 1px;margin: -1px;overflow: hidden;padding: 0;position: absolute;width: 1px;}#sk-container-id-1 div.sk-estimator {font-family: monospace;background-color: #f0f8ff;border: 1px dotted black;border-radius: 0.25em;box-sizing: border-box;margin-bottom: 0.5em;}#sk-container-id-1 div.sk-estimator:hover {background-color: #d4ebff;}#sk-container-id-1 div.sk-parallel-item::after {content: \"\";width: 100%;border-bottom: 1px solid gray;flex-grow: 1;}#sk-container-id-1 div.sk-label:hover label.sk-toggleable__label {background-color: #d4ebff;}#sk-container-id-1 div.sk-serial::before {content: \"\";position: absolute;border-left: 1px solid gray;box-sizing: border-box;top: 0;bottom: 0;left: 50%;z-index: 0;}#sk-container-id-1 div.sk-serial {display: flex;flex-direction: column;align-items: center;background-color: white;padding-right: 0.2em;padding-left: 0.2em;position: relative;}#sk-container-id-1 div.sk-item {position: relative;z-index: 1;}#sk-container-id-1 div.sk-parallel {display: flex;align-items: stretch;justify-content: center;background-color: white;position: relative;}#sk-container-id-1 div.sk-item::before, #sk-container-id-1 div.sk-parallel-item::before {content: \"\";position: absolute;border-left: 1px solid gray;box-sizing: border-box;top: 0;bottom: 0;left: 50%;z-index: -1;}#sk-container-id-1 div.sk-parallel-item {display: flex;flex-direction: column;z-index: 1;position: relative;background-color: white;}#sk-container-id-1 div.sk-parallel-item:first-child::after {align-self: flex-end;width: 50%;}#sk-container-id-1 div.sk-parallel-item:last-child::after {align-self: flex-start;width: 50%;}#sk-container-id-1 div.sk-parallel-item:only-child::after {width: 0;}#sk-container-id-1 div.sk-dashed-wrapped {border: 1px dashed gray;margin: 0 0.4em 0.5em 0.4em;box-sizing: border-box;padding-bottom: 0.4em;background-color: white;}#sk-container-id-1 div.sk-label label {font-family: monospace;font-weight: bold;display: inline-block;line-height: 1.2em;}#sk-container-id-1 div.sk-label-container {text-align: center;}#sk-container-id-1 div.sk-container {/* jupyter's `normalize.less` sets `[hidden] { display: none; }` but bootstrap.min.css set `[hidden] { display: none !important; }` so we also need the `!important` here to be able to override the default hidden behavior on the sphinx rendered scikit-learn.org. See: https://github.com/scikit-learn/scikit-learn/issues/21755 */display: inline-block !important;position: relative;}#sk-container-id-1 div.sk-text-repr-fallback {display: none;}</style><div id=\"sk-container-id-1\" class=\"sk-top-container\"><div class=\"sk-text-repr-fallback\"><pre>LogisticRegression()</pre><b>In a Jupyter environment, please rerun this cell to show the HTML representation or trust the notebook. <br />On GitHub, the HTML representation is unable to render, please try loading this page with nbviewer.org.</b></div><div class=\"sk-container\" hidden><div class=\"sk-item\"><div class=\"sk-estimator sk-toggleable\"><input class=\"sk-toggleable__control sk-hidden--visually\" id=\"sk-estimator-id-1\" type=\"checkbox\" checked><label for=\"sk-estimator-id-1\" class=\"sk-toggleable__label sk-toggleable__label-arrow\">LogisticRegression</label><div class=\"sk-toggleable__content\"><pre>LogisticRegression()</pre></div></div></div></div></div>"
      ],
      "text/plain": [
       "LogisticRegression()"
      ]
     },
     "execution_count": 20,
     "metadata": {},
     "output_type": "execute_result"
    }
   ],
   "source": [
    "lr=LogisticRegression()\n",
    "lr.fit(X_train,y_train)"
   ]
  },
  {
   "cell_type": "code",
   "execution_count": 21,
   "id": "9f26a3ac",
   "metadata": {
    "tags": []
   },
   "outputs": [
    {
     "name": "stdout",
     "output_type": "stream",
     "text": [
      "Accuracy: 96.43142264090692\n"
     ]
    }
   ],
   "source": [
    "y_pred=lr.predict(X_test)\n",
    "from sklearn.metrics import accuracy_score,classification_report,confusion_matrix\n",
    "ac=accuracy_score(y_test,y_pred)*100\n",
    "print('Accuracy:',ac)"
   ]
  },
  {
   "cell_type": "code",
   "execution_count": 22,
   "id": "96b75179",
   "metadata": {
    "tags": []
   },
   "outputs": [
    {
     "name": "stdout",
     "output_type": "stream",
     "text": [
      "              precision    recall  f1-score   support\n",
      "\n",
      "           0       0.91      0.97      0.94      3575\n",
      "           1       0.99      0.96      0.97      8951\n",
      "\n",
      "    accuracy                           0.96     12526\n",
      "   macro avg       0.95      0.97      0.96     12526\n",
      "weighted avg       0.97      0.96      0.96     12526\n",
      "\n"
     ]
    }
   ],
   "source": [
    "report=classification_report(y_test,y_pred)\n",
    "print(report)"
   ]
  },
  {
   "cell_type": "code",
   "execution_count": 23,
   "id": "1379601f",
   "metadata": {
    "tags": []
   },
   "outputs": [
    {
     "data": {
      "image/png": "[encoded data removed]",
      "text/plain": [
       "<Figure size 800x600 with 2 Axes>"
      ]
     },
     "metadata": {},
     "output_type": "display_data"
    }
   ],
   "source": [
    "cm=confusion_matrix(y_test,y_pred)\n",
    "# Visualize the confusion matrix as a heatmap\n",
    "plt.figure(figsize=(8, 6))\n",
    "sns.heatmap(cm, annot=True, fmt=\"d\", cmap=\"Blues\")\n",
    "plt.xlabel('Predicted')\n",
    "plt.ylabel('True')\n",
    "plt.title('LogisticRegression Confusion Matrix Heatmap')\n",
    "plt.show()"
   ]
  },
  {
   "cell_type": "code",
   "execution_count": 24,
   "id": "c534e4fe",
   "metadata": {
    "scrolled": true,
    "tags": []
   },
   "outputs": [
    {
     "data": {
      "text/html": [
       "<style>#sk-container-id-2 {color: black;}#sk-container-id-2 pre{padding: 0;}#sk-container-id-2 div.sk-toggleable {background-color: white;}#sk-container-id-2 label.sk-toggleable__label {cursor: pointer;display: block;width: 100%;margin-bottom: 0;padding: 0.3em;box-sizing: border-box;text-align: center;}#sk-container-id-2 label.sk-toggleable__label-arrow:before {content: \"▸\";float: left;margin-right: 0.25em;color: #696969;}#sk-container-id-2 label.sk-toggleable__label-arrow:hover:before {color: black;}#sk-container-id-2 div.sk-estimator:hover label.sk-toggleable__label-arrow:before {color: black;}#sk-container-id-2 div.sk-toggleable__content {max-height: 0;max-width: 0;overflow: hidden;text-align: left;background-color: #f0f8ff;}#sk-container-id-2 div.sk-toggleable__content pre {margin: 0.2em;color: black;border-radius: 0.25em;background-color: #f0f8ff;}#sk-container-id-2 input.sk-toggleable__control:checked~div.sk-toggleable__content {max-height: 200px;max-width: 100%;overflow: auto;}#sk-container-id-2 input.sk-toggleable__control:checked~label.sk-toggleable__label-arrow:before {content: \"▾\";}#sk-container-id-2 div.sk-estimator input.sk-toggleable__control:checked~label.sk-toggleable__label {background-color: #d4ebff;}#sk-container-id-2 div.sk-label input.sk-toggleable__control:checked~label.sk-toggleable__label {background-color: #d4ebff;}#sk-container-id-2 input.sk-hidden--visually {border: 0;clip: rect(1px 1px 1px 1px);clip: rect(1px, 1px, 1px, 1px);height: 1px;margin: -1px;overflow: hidden;padding: 0;position: absolute;width: 1px;}#sk-container-id-2 div.sk-estimator {font-family: monospace;background-color: #f0f8ff;border: 1px dotted black;border-radius: 0.25em;box-sizing: border-box;margin-bottom: 0.5em;}#sk-container-id-2 div.sk-estimator:hover {background-color: #d4ebff;}#sk-container-id-2 div.sk-parallel-item::after {content: \"\";width: 100%;border-bottom: 1px solid gray;flex-grow: 1;}#sk-container-id-2 div.sk-label:hover label.sk-toggleable__label {background-color: #d4ebff;}#sk-container-id-2 div.sk-serial::before {content: \"\";position: absolute;border-left: 1px solid gray;box-sizing: border-box;top: 0;bottom: 0;left: 50%;z-index: 0;}#sk-container-id-2 div.sk-serial {display: flex;flex-direction: column;align-items: center;background-color: white;padding-right: 0.2em;padding-left: 0.2em;position: relative;}#sk-container-id-2 div.sk-item {position: relative;z-index: 1;}#sk-container-id-2 div.sk-parallel {display: flex;align-items: stretch;justify-content: center;background-color: white;position: relative;}#sk-container-id-2 div.sk-item::before, #sk-container-id-2 div.sk-parallel-item::before {content: \"\";position: absolute;border-left: 1px solid gray;box-sizing: border-box;top: 0;bottom: 0;left: 50%;z-index: -1;}#sk-container-id-2 div.sk-parallel-item {display: flex;flex-direction: column;z-index: 1;position: relative;background-color: white;}#sk-container-id-2 div.sk-parallel-item:first-child::after {align-self: flex-end;width: 50%;}#sk-container-id-2 div.sk-parallel-item:last-child::after {align-self: flex-start;width: 50%;}#sk-container-id-2 div.sk-parallel-item:only-child::after {width: 0;}#sk-container-id-2 div.sk-dashed-wrapped {border: 1px dashed gray;margin: 0 0.4em 0.5em 0.4em;box-sizing: border-box;padding-bottom: 0.4em;background-color: white;}#sk-container-id-2 div.sk-label label {font-family: monospace;font-weight: bold;display: inline-block;line-height: 1.2em;}#sk-container-id-2 div.sk-label-container {text-align: center;}#sk-container-id-2 div.sk-container {/* jupyter's `normalize.less` sets `[hidden] { display: none; }` but bootstrap.min.css set `[hidden] { display: none !important; }` so we also need the `!important` here to be able to override the default hidden behavior on the sphinx rendered scikit-learn.org. See: https://github.com/scikit-learn/scikit-learn/issues/21755 */display: inline-block !important;position: relative;}#sk-container-id-2 div.sk-text-repr-fallback {display: none;}</style><div id=\"sk-container-id-2\" class=\"sk-top-container\"><div class=\"sk-text-repr-fallback\"><pre>RandomForestClassifier()</pre><b>In a Jupyter environment, please rerun this cell to show the HTML representation or trust the notebook. <br />On GitHub, the HTML representation is unable to render, please try loading this page with nbviewer.org.</b></div><div class=\"sk-container\" hidden><div class=\"sk-item\"><div class=\"sk-estimator sk-toggleable\"><input class=\"sk-toggleable__control sk-hidden--visually\" id=\"sk-estimator-id-2\" type=\"checkbox\" checked><label for=\"sk-estimator-id-2\" class=\"sk-toggleable__label sk-toggleable__label-arrow\">RandomForestClassifier</label><div class=\"sk-toggleable__content\"><pre>RandomForestClassifier()</pre></div></div></div></div></div>"
      ],
      "text/plain": [
       "RandomForestClassifier()"
      ]
     },
     "execution_count": 24,
     "metadata": {},
     "output_type": "execute_result"
    }
   ],
   "source": [
    "rf=RandomForestClassifier()\n",
    "rf.fit(X_train,y_train)"
   ]
  },
  {
   "cell_type": "code",
   "execution_count": 25,
   "id": "22121f5f",
   "metadata": {
    "tags": []
   },
   "outputs": [
    {
     "name": "stdout",
     "output_type": "stream",
     "text": [
      "Accuracy: 100.0\n"
     ]
    }
   ],
   "source": [
    "y_pred1=rf.predict(X_test)\n",
    "from sklearn.metrics import accuracy_score\n",
    "acc1=accuracy_score(y_test,y_pred1)*100\n",
    "print('Accuracy:',acc1)"
   ]
  },
  {
   "cell_type": "code",
   "execution_count": 26,
   "id": "bac4f931",
   "metadata": {
    "tags": []
   },
   "outputs": [
    {
     "name": "stdout",
     "output_type": "stream",
     "text": [
      "              precision    recall  f1-score   support\n",
      "\n",
      "           0       1.00      1.00      1.00      3575\n",
      "           1       1.00      1.00      1.00      8951\n",
      "\n",
      "    accuracy                           1.00     12526\n",
      "   macro avg       1.00      1.00      1.00     12526\n",
      "weighted avg       1.00      1.00      1.00     12526\n",
      "\n"
     ]
    }
   ],
   "source": [
    "report=classification_report(y_test,y_pred1)\n",
    "print(report)"
   ]
  },
  {
   "cell_type": "code",
   "execution_count": 27,
   "id": "775f3e93",
   "metadata": {
    "tags": []
   },
   "outputs": [
    {
     "data": {
      "image/png": "[encoded data removed]",
      "text/plain": [
       "<Figure size 800x600 with 2 Axes>"
      ]
     },
     "metadata": {},
     "output_type": "display_data"
    }
   ],
   "source": [
    "cm1=confusion_matrix(y_test,y_pred1)\n",
    "# Visualize the confusion matrix as a heatmap\n",
    "plt.figure(figsize=(8, 6))\n",
    "sns.heatmap(cm, annot=True, fmt=\"d\", cmap=\"Blues\")\n",
    "plt.xlabel('Predicted')\n",
    "plt.ylabel('True')\n",
    "plt.title('Random_forest Confusion Matrix Heatmap')\n",
    "plt.show()"
   ]
  },
  {
   "cell_type": "code",
   "execution_count": 28,
   "id": "4effaa01",
   "metadata": {
    "tags": []
   },
   "outputs": [
    {
     "data": {
      "text/plain": [
       "array([1, 1, 0, ..., 0, 1, 1], dtype=int64)"
      ]
     },
     "execution_count": 28,
     "metadata": {},
     "output_type": "execute_result"
    }
   ],
   "source": [
    "y_pred1"
   ]
  },
  {
   "cell_type": "code",
   "execution_count": 29,
   "id": "eabccf61",
   "metadata": {
    "tags": []
   },
   "outputs": [],
   "source": [
    "prediction_df=pd.DataFrame({'Predicted':y_pred1})"
   ]
  },
  {
   "cell_type": "code",
   "execution_count": 30,
   "id": "38eed9ed",
   "metadata": {
    "tags": []
   },
   "outputs": [
    {
     "data": {
      "text/html": [
       "<div>\n",
       "<style scoped>\n",
       "    .dataframe tbody tr th:only-of-type {\n",
       "        vertical-align: middle;\n",
       "    }\n",
       "\n",
       "    .dataframe tbody tr th {\n",
       "        vertical-align: top;\n",
       "    }\n",
       "\n",
       "    .dataframe thead th {\n",
       "        text-align: right;\n",
       "    }\n",
       "</style>\n",
       "<table border=\"1\" class=\"dataframe\">\n",
       "  <thead>\n",
       "    <tr style=\"text-align: right;\">\n",
       "      <th></th>\n",
       "      <th>Predicted</th>\n",
       "    </tr>\n",
       "  </thead>\n",
       "  <tbody>\n",
       "    <tr>\n",
       "      <th>0</th>\n",
       "      <td>1</td>\n",
       "    </tr>\n",
       "    <tr>\n",
       "      <th>1</th>\n",
       "      <td>1</td>\n",
       "    </tr>\n",
       "    <tr>\n",
       "      <th>2</th>\n",
       "      <td>0</td>\n",
       "    </tr>\n",
       "    <tr>\n",
       "      <th>3</th>\n",
       "      <td>0</td>\n",
       "    </tr>\n",
       "    <tr>\n",
       "      <th>4</th>\n",
       "      <td>1</td>\n",
       "    </tr>\n",
       "    <tr>\n",
       "      <th>...</th>\n",
       "      <td>...</td>\n",
       "    </tr>\n",
       "    <tr>\n",
       "      <th>12521</th>\n",
       "      <td>1</td>\n",
       "    </tr>\n",
       "    <tr>\n",
       "      <th>12522</th>\n",
       "      <td>1</td>\n",
       "    </tr>\n",
       "    <tr>\n",
       "      <th>12523</th>\n",
       "      <td>0</td>\n",
       "    </tr>\n",
       "    <tr>\n",
       "      <th>12524</th>\n",
       "      <td>1</td>\n",
       "    </tr>\n",
       "    <tr>\n",
       "      <th>12525</th>\n",
       "      <td>1</td>\n",
       "    </tr>\n",
       "  </tbody>\n",
       "</table>\n",
       "<p>12526 rows × 1 columns</p>\n",
       "</div>"
      ],
      "text/plain": [
       "       Predicted\n",
       "0              1\n",
       "1              1\n",
       "2              0\n",
       "3              0\n",
       "4              1\n",
       "...          ...\n",
       "12521          1\n",
       "12522          1\n",
       "12523          0\n",
       "12524          1\n",
       "12525          1\n",
       "\n",
       "[12526 rows x 1 columns]"
      ]
     },
     "execution_count": 30,
     "metadata": {},
     "output_type": "execute_result"
    }
   ],
   "source": [
    "prediction_df"
   ]
  }
 ],
 "metadata": {
  "kernelspec": {
   "display_name": "Python 3 (ipykernel)",
   "language": "python",
   "name": "python3"
  },
  "language_info": {
   "codemirror_mode": {
    "name": "ipython",
    "version": 3
   },
   "file_extension": ".py",
   "mimetype": "text/x-python",
   "name": "python",
   "nbconvert_exporter": "python",
   "pygments_lexer": "ipython3",
   "version": "3.11.4"
  },
  "papermill": {
   "default_parameters": {},
   "duration": 1718.815626,
   "end_time": "2022-09-13T15:26:22.180859",
   "environment_variables": {},
   "exception": null,
   "input_path": "__notebook__.ipynb",
   "output_path": "__notebook__.ipynb",
   "parameters": {},
   "start_time": "2022-09-13T14:57:43.365233",
   "version": "2.3.4"
  }
 },
 "nbformat": 4,
 "nbformat_minor": 5
}
